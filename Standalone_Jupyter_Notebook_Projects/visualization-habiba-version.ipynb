{
 "cells": [
  {
   "cell_type": "code",
   "execution_count": 1,
   "id": "e65c3b16",
   "metadata": {},
   "outputs": [],
   "source": [
    "import ecco\n",
    "import torch\n",
    "import numpy as np\n",
    "from transformers import GPT2LMHeadModel, GPT2Tokenizer\n",
    "import re"
   ]
  },
  {
   "cell_type": "code",
   "id": "bb27bac9",
   "metadata": {
    "ExecuteTime": {
     "end_time": "2025-07-04T19:58:23.023058Z",
     "start_time": "2025-07-04T19:54:20.594355Z"
    }
   },
   "source": "# !pip install ecco",
   "outputs": [
    {
     "name": "stdout",
     "output_type": "stream",
     "text": [
      "Collecting ecco\r\n",
      "  Downloading ecco-0.1.2-py2.py3-none-any.whl.metadata (4.9 kB)\r\n",
      "Collecting transformers~=4.2 (from ecco)\r\n",
      "  Downloading transformers-4.53.1-py3-none-any.whl.metadata (40 kB)\r\n",
      "Collecting seaborn~=0.11 (from ecco)\r\n",
      "  Downloading seaborn-0.13.2-py3-none-any.whl.metadata (5.4 kB)\r\n",
      "Collecting scikit-learn~=0.23 (from ecco)\r\n",
      "  Downloading scikit_learn-0.24.2-cp39-cp39-macosx_10_13_x86_64.whl.metadata (9.8 kB)\r\n",
      "Collecting PyYAML~=5.4 (from ecco)\r\n",
      "  Downloading PyYAML-5.4.1-cp39-cp39-macosx_10_9_x86_64.whl.metadata (2.1 kB)\r\n",
      "Collecting captum~=0.4 (from ecco)\r\n",
      "  Downloading captum-0.8.0-py3-none-any.whl.metadata (26 kB)\r\n",
      "Collecting matplotlib (from captum~=0.4->ecco)\r\n",
      "  Downloading matplotlib-3.9.4-cp39-cp39-macosx_10_12_x86_64.whl.metadata (11 kB)\r\n",
      "Collecting numpy<2.0 (from captum~=0.4->ecco)\r\n",
      "  Downloading numpy-1.26.4-cp39-cp39-macosx_10_9_x86_64.whl.metadata (61 kB)\r\n",
      "Requirement already satisfied: packaging in /Users/imbilalbutt/virtual-env/bin/.venv/lib/python3.9/site-packages (from captum~=0.4->ecco) (25.0)\r\n",
      "Collecting torch>=1.10 (from captum~=0.4->ecco)\r\n",
      "  Downloading torch-2.2.2-cp39-none-macosx_10_9_x86_64.whl.metadata (25 kB)\r\n",
      "Collecting tqdm (from captum~=0.4->ecco)\r\n",
      "  Downloading tqdm-4.67.1-py3-none-any.whl.metadata (57 kB)\r\n",
      "Collecting scipy>=0.19.1 (from scikit-learn~=0.23->ecco)\r\n",
      "  Downloading scipy-1.13.1-cp39-cp39-macosx_10_9_x86_64.whl.metadata (60 kB)\r\n",
      "Collecting joblib>=0.11 (from scikit-learn~=0.23->ecco)\r\n",
      "  Downloading joblib-1.5.1-py3-none-any.whl.metadata (5.6 kB)\r\n",
      "Collecting threadpoolctl>=2.0.0 (from scikit-learn~=0.23->ecco)\r\n",
      "  Downloading threadpoolctl-3.6.0-py3-none-any.whl.metadata (13 kB)\r\n",
      "Collecting pandas>=1.2 (from seaborn~=0.11->ecco)\r\n",
      "  Downloading pandas-2.3.0-cp39-cp39-macosx_10_9_x86_64.whl.metadata (91 kB)\r\n",
      "Collecting filelock (from transformers~=4.2->ecco)\r\n",
      "  Downloading filelock-3.18.0-py3-none-any.whl.metadata (2.9 kB)\r\n",
      "Collecting huggingface-hub<1.0,>=0.30.0 (from transformers~=4.2->ecco)\r\n",
      "  Downloading huggingface_hub-0.33.2-py3-none-any.whl.metadata (14 kB)\r\n",
      "Collecting regex!=2019.12.17 (from transformers~=4.2->ecco)\r\n",
      "  Downloading regex-2024.11.6-cp39-cp39-macosx_10_9_x86_64.whl.metadata (40 kB)\r\n",
      "Requirement already satisfied: requests in /Users/imbilalbutt/virtual-env/bin/.venv/lib/python3.9/site-packages (from transformers~=4.2->ecco) (2.32.4)\r\n",
      "Collecting tokenizers<0.22,>=0.21 (from transformers~=4.2->ecco)\r\n",
      "  Downloading tokenizers-0.21.2-cp39-abi3-macosx_10_12_x86_64.whl.metadata (6.8 kB)\r\n",
      "Collecting safetensors>=0.4.3 (from transformers~=4.2->ecco)\r\n",
      "  Downloading safetensors-0.5.3-cp38-abi3-macosx_10_12_x86_64.whl.metadata (3.8 kB)\r\n",
      "Collecting fsspec>=2023.5.0 (from huggingface-hub<1.0,>=0.30.0->transformers~=4.2->ecco)\r\n",
      "  Downloading fsspec-2025.5.1-py3-none-any.whl.metadata (11 kB)\r\n",
      "Requirement already satisfied: typing-extensions>=3.7.4.3 in /Users/imbilalbutt/virtual-env/bin/.venv/lib/python3.9/site-packages (from huggingface-hub<1.0,>=0.30.0->transformers~=4.2->ecco) (4.14.1)\r\n",
      "Collecting hf-xet<2.0.0,>=1.1.2 (from huggingface-hub<1.0,>=0.30.0->transformers~=4.2->ecco)\r\n",
      "  Downloading hf_xet-1.1.5-cp37-abi3-macosx_10_12_x86_64.whl.metadata (879 bytes)\r\n",
      "Collecting contourpy>=1.0.1 (from matplotlib->captum~=0.4->ecco)\r\n",
      "  Downloading contourpy-1.3.0-cp39-cp39-macosx_10_9_x86_64.whl.metadata (5.4 kB)\r\n",
      "Collecting cycler>=0.10 (from matplotlib->captum~=0.4->ecco)\r\n",
      "  Downloading cycler-0.12.1-py3-none-any.whl.metadata (3.8 kB)\r\n",
      "Collecting fonttools>=4.22.0 (from matplotlib->captum~=0.4->ecco)\r\n",
      "  Downloading fonttools-4.58.5-cp39-cp39-macosx_10_9_x86_64.whl.metadata (106 kB)\r\n",
      "Collecting kiwisolver>=1.3.1 (from matplotlib->captum~=0.4->ecco)\r\n",
      "  Downloading kiwisolver-1.4.7-cp39-cp39-macosx_10_9_x86_64.whl.metadata (6.3 kB)\r\n",
      "Collecting pillow>=8 (from matplotlib->captum~=0.4->ecco)\r\n",
      "  Downloading pillow-11.3.0-cp39-cp39-macosx_10_10_x86_64.whl.metadata (9.0 kB)\r\n",
      "Collecting pyparsing>=2.3.1 (from matplotlib->captum~=0.4->ecco)\r\n",
      "  Downloading pyparsing-3.2.3-py3-none-any.whl.metadata (5.0 kB)\r\n",
      "Requirement already satisfied: python-dateutil>=2.7 in /Users/imbilalbutt/virtual-env/bin/.venv/lib/python3.9/site-packages (from matplotlib->captum~=0.4->ecco) (2.9.0.post0)\r\n",
      "Collecting importlib-resources>=3.2.0 (from matplotlib->captum~=0.4->ecco)\r\n",
      "  Downloading importlib_resources-6.5.2-py3-none-any.whl.metadata (3.9 kB)\r\n",
      "Requirement already satisfied: zipp>=3.1.0 in /Users/imbilalbutt/virtual-env/bin/.venv/lib/python3.9/site-packages (from importlib-resources>=3.2.0->matplotlib->captum~=0.4->ecco) (3.23.0)\r\n",
      "Collecting pytz>=2020.1 (from pandas>=1.2->seaborn~=0.11->ecco)\r\n",
      "  Downloading pytz-2025.2-py2.py3-none-any.whl.metadata (22 kB)\r\n",
      "Collecting tzdata>=2022.7 (from pandas>=1.2->seaborn~=0.11->ecco)\r\n",
      "  Downloading tzdata-2025.2-py2.py3-none-any.whl.metadata (1.4 kB)\r\n",
      "Requirement already satisfied: six>=1.5 in /Users/imbilalbutt/virtual-env/bin/.venv/lib/python3.9/site-packages (from python-dateutil>=2.7->matplotlib->captum~=0.4->ecco) (1.17.0)\r\n",
      "Collecting sympy (from torch>=1.10->captum~=0.4->ecco)\r\n",
      "  Downloading sympy-1.14.0-py3-none-any.whl.metadata (12 kB)\r\n",
      "Collecting networkx (from torch>=1.10->captum~=0.4->ecco)\r\n",
      "  Downloading networkx-3.2.1-py3-none-any.whl.metadata (5.2 kB)\r\n",
      "Requirement already satisfied: jinja2 in /Users/imbilalbutt/virtual-env/bin/.venv/lib/python3.9/site-packages (from torch>=1.10->captum~=0.4->ecco) (3.1.6)\r\n",
      "Requirement already satisfied: MarkupSafe>=2.0 in /Users/imbilalbutt/virtual-env/bin/.venv/lib/python3.9/site-packages (from jinja2->torch>=1.10->captum~=0.4->ecco) (3.0.2)\r\n",
      "Requirement already satisfied: charset_normalizer<4,>=2 in /Users/imbilalbutt/virtual-env/bin/.venv/lib/python3.9/site-packages (from requests->transformers~=4.2->ecco) (3.4.2)\r\n",
      "Requirement already satisfied: idna<4,>=2.5 in /Users/imbilalbutt/virtual-env/bin/.venv/lib/python3.9/site-packages (from requests->transformers~=4.2->ecco) (3.10)\r\n",
      "Requirement already satisfied: urllib3<3,>=1.21.1 in /Users/imbilalbutt/virtual-env/bin/.venv/lib/python3.9/site-packages (from requests->transformers~=4.2->ecco) (2.5.0)\r\n",
      "Requirement already satisfied: certifi>=2017.4.17 in /Users/imbilalbutt/virtual-env/bin/.venv/lib/python3.9/site-packages (from requests->transformers~=4.2->ecco) (2025.6.15)\r\n",
      "Collecting mpmath<1.4,>=1.1.0 (from sympy->torch>=1.10->captum~=0.4->ecco)\r\n",
      "  Downloading mpmath-1.3.0-py3-none-any.whl.metadata (8.6 kB)\r\n",
      "Downloading ecco-0.1.2-py2.py3-none-any.whl (70 kB)\r\n",
      "Downloading captum-0.8.0-py3-none-any.whl (1.4 MB)\r\n",
      "\u001B[2K   \u001B[90m━━━━━━━━━━━━━━━━━━━━━━━━━━━━━━━━━━━━━━━━\u001B[0m \u001B[32m1.4/1.4 MB\u001B[0m \u001B[31m5.4 MB/s\u001B[0m eta \u001B[36m0:00:00\u001B[0ma \u001B[36m0:00:01\u001B[0m\r\n",
      "\u001B[?25hDownloading numpy-1.26.4-cp39-cp39-macosx_10_9_x86_64.whl (20.6 MB)\r\n",
      "\u001B[2K   \u001B[90m━━━━━━━━━━━━━━━━━━━━━━━━━━━━━━━━━━━━━━━━\u001B[0m \u001B[32m20.6/20.6 MB\u001B[0m \u001B[31m15.0 MB/s\u001B[0m eta \u001B[36m0:00:00\u001B[0ma \u001B[36m0:00:01\u001B[0m\r\n",
      "\u001B[?25hDownloading PyYAML-5.4.1-cp39-cp39-macosx_10_9_x86_64.whl (259 kB)\r\n",
      "Downloading scikit_learn-0.24.2-cp39-cp39-macosx_10_13_x86_64.whl (7.3 MB)\r\n",
      "\u001B[2K   \u001B[90m━━━━━━━━━━━━━━━━━━━━━━━━━━━━━━━━━━━━━━━━\u001B[0m \u001B[32m7.3/7.3 MB\u001B[0m \u001B[31m10.1 MB/s\u001B[0m eta \u001B[36m0:00:00\u001B[0ma \u001B[36m0:00:01\u001B[0m\r\n",
      "\u001B[?25hDownloading seaborn-0.13.2-py3-none-any.whl (294 kB)\r\n",
      "Downloading transformers-4.53.1-py3-none-any.whl (10.8 MB)\r\n",
      "\u001B[2K   \u001B[90m━━━━━━━━━━━━━━━━━━━━━━━━━━━━━━━━━━━━━━━━\u001B[0m \u001B[32m10.8/10.8 MB\u001B[0m \u001B[31m25.2 MB/s\u001B[0m eta \u001B[36m0:00:00\u001B[0m00:01\u001B[0m0:01\u001B[0m\r\n",
      "\u001B[?25hDownloading huggingface_hub-0.33.2-py3-none-any.whl (515 kB)\r\n",
      "Downloading hf_xet-1.1.5-cp37-abi3-macosx_10_12_x86_64.whl (2.7 MB)\r\n",
      "\u001B[2K   \u001B[90m━━━━━━━━━━━━━━━━━━━━━━━━━━━━━━━━━━━━━━━━\u001B[0m \u001B[32m2.7/2.7 MB\u001B[0m \u001B[31m14.0 MB/s\u001B[0m eta \u001B[36m0:00:00\u001B[0m\r\n",
      "\u001B[?25hDownloading tokenizers-0.21.2-cp39-abi3-macosx_10_12_x86_64.whl (2.9 MB)\r\n",
      "\u001B[2K   \u001B[90m━━━━━━━━━━━━━━━━━━━━━━━━━━━━━━━━━━━━━━━━\u001B[0m \u001B[32m2.9/2.9 MB\u001B[0m \u001B[31m20.7 MB/s\u001B[0m eta \u001B[36m0:00:00\u001B[0m\r\n",
      "\u001B[?25hDownloading fsspec-2025.5.1-py3-none-any.whl (199 kB)\r\n",
      "Downloading joblib-1.5.1-py3-none-any.whl (307 kB)\r\n",
      "Downloading matplotlib-3.9.4-cp39-cp39-macosx_10_12_x86_64.whl (7.9 MB)\r\n",
      "\u001B[2K   \u001B[90m━━━━━━━━━━━━━━━━━━━━━━━━━━━━━━━━━━━━━━━━\u001B[0m \u001B[32m7.9/7.9 MB\u001B[0m \u001B[31m24.4 MB/s\u001B[0m eta \u001B[36m0:00:00\u001B[0ma \u001B[36m0:00:01\u001B[0m\r\n",
      "\u001B[?25hDownloading contourpy-1.3.0-cp39-cp39-macosx_10_9_x86_64.whl (265 kB)\r\n",
      "Downloading cycler-0.12.1-py3-none-any.whl (8.3 kB)\r\n",
      "Downloading fonttools-4.58.5-cp39-cp39-macosx_10_9_x86_64.whl (2.3 MB)\r\n",
      "\u001B[2K   \u001B[90m━━━━━━━━━━━━━━━━━━━━━━━━━━━━━━━━━━━━━━━━\u001B[0m \u001B[32m2.3/2.3 MB\u001B[0m \u001B[31m17.5 MB/s\u001B[0m eta \u001B[36m0:00:00\u001B[0m\r\n",
      "\u001B[?25hDownloading importlib_resources-6.5.2-py3-none-any.whl (37 kB)\r\n",
      "Downloading kiwisolver-1.4.7-cp39-cp39-macosx_10_9_x86_64.whl (65 kB)\r\n",
      "Downloading pandas-2.3.0-cp39-cp39-macosx_10_9_x86_64.whl (11.6 MB)\r\n",
      "\u001B[2K   \u001B[90m━━━━━━━━━━━━━━━━━━━━━━━━━━━━━━━━━━━━━━━━\u001B[0m \u001B[32m11.6/11.6 MB\u001B[0m \u001B[31m24.7 MB/s\u001B[0m eta \u001B[36m0:00:00\u001B[0m00:01\u001B[0m0:01\u001B[0m\r\n",
      "\u001B[?25hDownloading pillow-11.3.0-cp39-cp39-macosx_10_10_x86_64.whl (5.3 MB)\r\n",
      "\u001B[2K   \u001B[90m━━━━━━━━━━━━━━━━━━━━━━━━━━━━━━━━━━━━━━━━\u001B[0m \u001B[32m5.3/5.3 MB\u001B[0m \u001B[31m21.5 MB/s\u001B[0m eta \u001B[36m0:00:00\u001B[0m00:01\u001B[0m\r\n",
      "\u001B[?25hDownloading pyparsing-3.2.3-py3-none-any.whl (111 kB)\r\n",
      "Downloading pytz-2025.2-py2.py3-none-any.whl (509 kB)\r\n",
      "Downloading regex-2024.11.6-cp39-cp39-macosx_10_9_x86_64.whl (287 kB)\r\n",
      "Downloading safetensors-0.5.3-cp38-abi3-macosx_10_12_x86_64.whl (436 kB)\r\n",
      "Downloading scipy-1.13.1-cp39-cp39-macosx_10_9_x86_64.whl (39.4 MB)\r\n",
      "\u001B[2K   \u001B[90m━━━━━━━━━━━━━━━━━━━━━━━━━━━━━━━━━━━━━━━━\u001B[0m \u001B[32m39.4/39.4 MB\u001B[0m \u001B[31m15.4 MB/s\u001B[0m eta \u001B[36m0:00:00\u001B[0m00:01\u001B[0m00:01\u001B[0m\r\n",
      "\u001B[?25hDownloading threadpoolctl-3.6.0-py3-none-any.whl (18 kB)\r\n",
      "Downloading torch-2.2.2-cp39-none-macosx_10_9_x86_64.whl (150.8 MB)\r\n",
      "\u001B[2K   \u001B[90m━━━━━━━━━━━━━━━━━━━━━━━━━━━━━━━━━━━━━━━━\u001B[0m \u001B[32m150.8/150.8 MB\u001B[0m \u001B[31m26.8 MB/s\u001B[0m eta \u001B[36m0:00:00\u001B[0m00:01\u001B[0m00:01\u001B[0m\r\n",
      "\u001B[?25hDownloading tqdm-4.67.1-py3-none-any.whl (78 kB)\r\n",
      "Downloading tzdata-2025.2-py2.py3-none-any.whl (347 kB)\r\n",
      "Downloading filelock-3.18.0-py3-none-any.whl (16 kB)\r\n",
      "Downloading networkx-3.2.1-py3-none-any.whl (1.6 MB)\r\n",
      "\u001B[2K   \u001B[90m━━━━━━━━━━━━━━━━━━━━━━━━━━━━━━━━━━━━━━━━\u001B[0m \u001B[32m1.6/1.6 MB\u001B[0m \u001B[31m20.6 MB/s\u001B[0m eta \u001B[36m0:00:00\u001B[0m\r\n",
      "\u001B[?25hDownloading sympy-1.14.0-py3-none-any.whl (6.3 MB)\r\n",
      "\u001B[2K   \u001B[90m━━━━━━━━━━━━━━━━━━━━━━━━━━━━━━━━━━━━━━━━\u001B[0m \u001B[32m6.3/6.3 MB\u001B[0m \u001B[31m8.9 MB/s\u001B[0m eta \u001B[36m0:00:00\u001B[0ma \u001B[36m0:00:01\u001B[0m\r\n",
      "\u001B[?25hDownloading mpmath-1.3.0-py3-none-any.whl (536 kB)\r\n",
      "\u001B[2K   \u001B[90m━━━━━━━━━━━━━━━━━━━━━━━━━━━━━━━━━━━━━━━━\u001B[0m \u001B[32m536.2/536.2 kB\u001B[0m \u001B[31m7.3 MB/s\u001B[0m eta \u001B[36m0:00:00\u001B[0m\r\n",
      "\u001B[?25hInstalling collected packages: pytz, mpmath, tzdata, tqdm, threadpoolctl, sympy, safetensors, regex, PyYAML, pyparsing, pillow, numpy, networkx, kiwisolver, joblib, importlib-resources, hf-xet, fsspec, fonttools, filelock, cycler, torch, scipy, pandas, huggingface-hub, contourpy, tokenizers, scikit-learn, matplotlib, transformers, seaborn, captum, ecco\r\n",
      "\u001B[2K  Attempting uninstall: PyYAML\u001B[90m━━━━━━━━━━━━━━━━━━━━━━━━━━━━━━━\u001B[0m \u001B[32m 7/33\u001B[0m [regex]nsors]\r\n",
      "\u001B[2K    Found existing installation: PyYAML 6.0.2━━━━━━━━━━━━━━━━━\u001B[0m \u001B[32m 7/33\u001B[0m [regex]\r\n",
      "\u001B[2K    Uninstalling PyYAML-6.0.2:m━━━━━━━━━━━━━━━━━━━━━━━━━━━━━━━\u001B[0m \u001B[32m 7/33\u001B[0m [regex]\r\n",
      "\u001B[2K      Successfully uninstalled PyYAML-6.0.2━━━━━━━━━━━━━━━━━━━\u001B[0m \u001B[32m 7/33\u001B[0m [regex]\r\n",
      "\u001B[2K   \u001B[90m━━━━━━━━━━━━━━━━━━━━━━━━━━━━━━━━━━━━━━━━\u001B[0m \u001B[32m33/33\u001B[0m [ecco]2m32/33\u001B[0m [ecco]m]]mers]ub]ces]\r\n",
      "\u001B[1A\u001B[2KSuccessfully installed PyYAML-5.4.1 captum-0.8.0 contourpy-1.3.0 cycler-0.12.1 ecco-0.1.2 filelock-3.18.0 fonttools-4.58.5 fsspec-2025.5.1 hf-xet-1.1.5 huggingface-hub-0.33.2 importlib-resources-6.5.2 joblib-1.5.1 kiwisolver-1.4.7 matplotlib-3.9.4 mpmath-1.3.0 networkx-3.2.1 numpy-1.26.4 pandas-2.3.0 pillow-11.3.0 pyparsing-3.2.3 pytz-2025.2 regex-2024.11.6 safetensors-0.5.3 scikit-learn-0.24.2 scipy-1.13.1 seaborn-0.13.2 sympy-1.14.0 threadpoolctl-3.6.0 tokenizers-0.21.2 torch-2.2.2 tqdm-4.67.1 transformers-4.53.1 tzdata-2025.2\r\n"
     ]
    }
   ],
   "execution_count": 1
  },
  {
   "cell_type": "code",
   "execution_count": 3,
   "id": "9d745265",
   "metadata": {},
   "outputs": [],
   "source": [
    "# let's remember what we modified so we can restore the model\n",
    "\n",
    "def modify_model_heads(model, layers, heads, memory, share):\n",
    "    \n",
    "    # offset of 1536 is the first value of the Values vector (as in Queries, Keys, Values)\n",
    "    # The next 64 values constitute the first head in the Values vector - there are 12 heads total in \"GPT-2 small\" model\n",
    "    head_offsets = [1536,1536+64,1536+128,1536+192,1536+256,1536+320, \\\n",
    "                    1536+384,1536+448,1536+512,1536+576,1536+640,1536+704]\n",
    "    \n",
    "    end_offset = int(64*(share/100))\n",
    "    # modify\n",
    "    # modify heads in all encoder layers\n",
    "    for layer in layers:\n",
    "        \n",
    "        layer = int(layer)\n",
    "        #print(\"Modifying layer: \",layer)\n",
    "        # step through the 12 heads one at a time\n",
    "        for head in heads:\n",
    "\n",
    "            # get the offset value for the current head\n",
    "            offset = head_offsets[head]\n",
    "\n",
    "            # modify a random 50%\n",
    "            #np.random.seed(1234)\n",
    "            #rnd_index = np.random.randint(offset,offset+63,32) # 50% of the heads\n",
    "            #if head < 3:\n",
    "            #    print(rnd_index)\n",
    "\n",
    "            # step through all 768 rows of the c_attn.weight matrix holding Query-Key-Values matrix (768x2304)\n",
    "            for row in range(0,model.model.transformer.h[layer].attn.c_attn.weight.size()[0]):\n",
    "\n",
    "                # The line below will do a random deletion\n",
    "                #model.transformer.h[layer].attn.c_attn.weight[row][rnd_index] = \\\n",
    "                #    model.transformer.h[layer].attn.c_attn.weight[row][rnd_index].mul(0.0)\n",
    "                \n",
    "\n",
    "                # The line below will randomly shuffle the head corresponding to the \"offset\" (not really reproducible)\n",
    "                #random.shuffle(model.transformer.h[layer].attn.c_attn.weight[row][offset:offset + 31])\n",
    "\n",
    "                with torch.no_grad():\n",
    "                    # remember what we modify\n",
    "                    memory[layer][row][offset:offset + end_offset] = model.model.transformer.h[layer].attn.c_attn.weight[row][offset:offset + end_offset]\n",
    "                \n",
    "                    # The line below will turn all values of the current head to zero (reproducible)\n",
    "                    # zero out only the first 16/32/48/64 values (25/50/75/100%) of each head\n",
    "                    model.model.transformer.h[layer].attn.c_attn.weight[row][offset:offset+end_offset] = \\\n",
    "                        model.model.transformer.h[layer].attn.c_attn.weight[row][offset:offset+end_offset].mul(0.0)\n",
    "                    model.model.transformer.h[layer].attn.c_attn.bias[offset:offset+end_offset] = \\\n",
    "                        model.model.transformer.h[layer].attn.c_attn.bias[offset:offset+end_offset].mul(0.0)\n",
    "                \n",
    "                # The line below will delete the last 50% of the values in each head\n",
    "                #model.transformer.h[layer].attn.c_attn.weight[row][offset+47:offset + 63] = \\\n",
    "                #    model.transformer.h[layer].attn.c_attn.weight[row][offset+47:offset + 63].mul(0.0)\n",
    "\n",
    "                # The line below will delete the middle 50% of the values in each head\n",
    "                #model.transformer.h[layer].attn.c_attn.weight[row][offset+15:offset + 47] = \\\n",
    "                #    model.transformer.h[layer].attn.c_attn.weight[row][offset+15:offset + 47].mul(0.0)\n",
    "\n",
    "                # let's implement a gradual damage across heads\n",
    "                # assuming that \n",
    "                #if head < 8:\n",
    "                #    model.transformer.h[layer].attn.c_attn.weight[row][offset:offset + 31] = \\\n",
    "                #        model.transformer.h[layer].attn.c_attn.weight[row][offset:offset + 31].mul(0.0)\n",
    "                #if head >= 8:\n",
    "                #    model.transformer.h[layer].attn.c_attn.weight[row][offset:offset + 15] = \\\n",
    "                #        model.transformer.h[layer].attn.c_attn.weight[row][offset:offset + 15].mul(0.0)\n",
    "                \n",
    "    return model, memory\n",
    "\n"
   ]
  },
  {
   "cell_type": "code",
   "execution_count": 4,
   "id": "8d27ca72",
   "metadata": {},
   "outputs": [],
   "source": [
    "def unmodify_model(model, layers, heads, memory, share):\n",
    "     # offset of 1536 is the first value of the Values vector (as in Queries, Keys, Values)\n",
    "    # The next 64 values constitute the first head in the Values vector - there are 12 heads total in \"GPT-2 small\" model\n",
    "    head_offsets = [1536,1536+64,1536+128,1536+192,1536+256,1536+320, \\\n",
    "                    1536+384,1536+448,1536+512,1536+576,1536+640,1536+704]\n",
    "    \n",
    "    end_offset = int(64*(share/100))\n",
    "    # modify\n",
    "    # modify heads in all encoder layers\n",
    "    for layer in layers:\n",
    "        \n",
    "        layer = int(layer)\n",
    "        #print(\"Un-Modifying layer: \",layer)\n",
    "        # step through the 12 heads one at a time\n",
    "        for head in heads:\n",
    "\n",
    "            # get the offset value for the current head\n",
    "            offset = head_offsets[head]\n",
    "\n",
    "            # step through all 768 rows of the c_attn.weight matrix holding Query-Key-Values matrix (768x2304)\n",
    "            for row in range(memory.shape[1]):\n",
    "\n",
    "                with torch.no_grad():\n",
    "                    # The line below will turn all values of the current head to zero (reproducible)\n",
    "                    # zero out only the first 16/32/48/64 values (25/50/75/100%) of each head\n",
    "                    model.transformer.h[layer].attn.c_attn.weight[row][offset:offset + end_offset] = \\\n",
    "                        memory[layer][row][offset:offset + end_offset]\n",
    "                \n",
    "                \n",
    "    return model\n"
   ]
  },
  {
   "cell_type": "code",
   "execution_count": 5,
   "id": "8eb5f1ee",
   "metadata": {},
   "outputs": [
    {
     "data": {
      "text/plain": [
       "False"
      ]
     },
     "execution_count": 5,
     "metadata": {},
     "output_type": "execute_result"
    }
   ],
   "source": [
    "import torch\n",
    "torch.cuda.is_available()"
   ]
  },
  {
   "cell_type": "code",
   "execution_count": 6,
   "id": "e93f2848",
   "metadata": {
    "scrolled": true
   },
   "outputs": [
    {
     "name": "stdout",
     "output_type": "stream",
     "text": [
      "env: CUDA_VISIBLE_DEVICES=1\n"
     ]
    }
   ],
   "source": [
    "%env CUDA_VISIBLE_DEVICES=1\n",
    "# Load pre-trained language model. Setting 'activations' to True tells Ecco to capture neuron activations.\n",
    "lm = ecco.from_pretrained('gpt2', activations=True)\n",
    "dlm = ecco.from_pretrained('gpt2', activations=True)\n"
   ]
  },
  {
   "cell_type": "markdown",
   "id": "d3943ff1",
   "metadata": {},
   "source": [
    "# 3- identify layer names\n",
    "\n",
    "We need the names of the embedding layer (to support attribution calculations) and the `FFNN layer` (to support neuron activation collection)."
   ]
  },
  {
   "cell_type": "code",
   "execution_count": 7,
   "id": "029cdff5",
   "metadata": {},
   "outputs": [],
   "source": [
    "from transformers import AutoModel"
   ]
  },
  {
   "cell_type": "code",
   "execution_count": 8,
   "id": "b1e622a0",
   "metadata": {},
   "outputs": [],
   "source": [
    "lm_model = AutoModel.from_pretrained('gpt2')"
   ]
  },
  {
   "cell_type": "code",
   "execution_count": 9,
   "id": "242986cb",
   "metadata": {},
   "outputs": [
    {
     "data": {
      "text/plain": [
       "GPT2Model(\n",
       "  (wte): Embedding(50257, 768)\n",
       "  (wpe): Embedding(1024, 768)\n",
       "  (drop): Dropout(p=0.1, inplace=False)\n",
       "  (h): ModuleList(\n",
       "    (0): GPT2Block(\n",
       "      (ln_1): LayerNorm((768,), eps=1e-05, elementwise_affine=True)\n",
       "      (attn): GPT2Attention(\n",
       "        (c_attn): Conv1D()\n",
       "        (c_proj): Conv1D()\n",
       "        (attn_dropout): Dropout(p=0.1, inplace=False)\n",
       "        (resid_dropout): Dropout(p=0.1, inplace=False)\n",
       "      )\n",
       "      (ln_2): LayerNorm((768,), eps=1e-05, elementwise_affine=True)\n",
       "      (mlp): GPT2MLP(\n",
       "        (c_fc): Conv1D()\n",
       "        (c_proj): Conv1D()\n",
       "        (act): NewGELUActivation()\n",
       "        (dropout): Dropout(p=0.1, inplace=False)\n",
       "      )\n",
       "    )\n",
       "    (1): GPT2Block(\n",
       "      (ln_1): LayerNorm((768,), eps=1e-05, elementwise_affine=True)\n",
       "      (attn): GPT2Attention(\n",
       "        (c_attn): Conv1D()\n",
       "        (c_proj): Conv1D()\n",
       "        (attn_dropout): Dropout(p=0.1, inplace=False)\n",
       "        (resid_dropout): Dropout(p=0.1, inplace=False)\n",
       "      )\n",
       "      (ln_2): LayerNorm((768,), eps=1e-05, elementwise_affine=True)\n",
       "      (mlp): GPT2MLP(\n",
       "        (c_fc): Conv1D()\n",
       "        (c_proj): Conv1D()\n",
       "        (act): NewGELUActivation()\n",
       "        (dropout): Dropout(p=0.1, inplace=False)\n",
       "      )\n",
       "    )\n",
       "    (2): GPT2Block(\n",
       "      (ln_1): LayerNorm((768,), eps=1e-05, elementwise_affine=True)\n",
       "      (attn): GPT2Attention(\n",
       "        (c_attn): Conv1D()\n",
       "        (c_proj): Conv1D()\n",
       "        (attn_dropout): Dropout(p=0.1, inplace=False)\n",
       "        (resid_dropout): Dropout(p=0.1, inplace=False)\n",
       "      )\n",
       "      (ln_2): LayerNorm((768,), eps=1e-05, elementwise_affine=True)\n",
       "      (mlp): GPT2MLP(\n",
       "        (c_fc): Conv1D()\n",
       "        (c_proj): Conv1D()\n",
       "        (act): NewGELUActivation()\n",
       "        (dropout): Dropout(p=0.1, inplace=False)\n",
       "      )\n",
       "    )\n",
       "    (3): GPT2Block(\n",
       "      (ln_1): LayerNorm((768,), eps=1e-05, elementwise_affine=True)\n",
       "      (attn): GPT2Attention(\n",
       "        (c_attn): Conv1D()\n",
       "        (c_proj): Conv1D()\n",
       "        (attn_dropout): Dropout(p=0.1, inplace=False)\n",
       "        (resid_dropout): Dropout(p=0.1, inplace=False)\n",
       "      )\n",
       "      (ln_2): LayerNorm((768,), eps=1e-05, elementwise_affine=True)\n",
       "      (mlp): GPT2MLP(\n",
       "        (c_fc): Conv1D()\n",
       "        (c_proj): Conv1D()\n",
       "        (act): NewGELUActivation()\n",
       "        (dropout): Dropout(p=0.1, inplace=False)\n",
       "      )\n",
       "    )\n",
       "    (4): GPT2Block(\n",
       "      (ln_1): LayerNorm((768,), eps=1e-05, elementwise_affine=True)\n",
       "      (attn): GPT2Attention(\n",
       "        (c_attn): Conv1D()\n",
       "        (c_proj): Conv1D()\n",
       "        (attn_dropout): Dropout(p=0.1, inplace=False)\n",
       "        (resid_dropout): Dropout(p=0.1, inplace=False)\n",
       "      )\n",
       "      (ln_2): LayerNorm((768,), eps=1e-05, elementwise_affine=True)\n",
       "      (mlp): GPT2MLP(\n",
       "        (c_fc): Conv1D()\n",
       "        (c_proj): Conv1D()\n",
       "        (act): NewGELUActivation()\n",
       "        (dropout): Dropout(p=0.1, inplace=False)\n",
       "      )\n",
       "    )\n",
       "    (5): GPT2Block(\n",
       "      (ln_1): LayerNorm((768,), eps=1e-05, elementwise_affine=True)\n",
       "      (attn): GPT2Attention(\n",
       "        (c_attn): Conv1D()\n",
       "        (c_proj): Conv1D()\n",
       "        (attn_dropout): Dropout(p=0.1, inplace=False)\n",
       "        (resid_dropout): Dropout(p=0.1, inplace=False)\n",
       "      )\n",
       "      (ln_2): LayerNorm((768,), eps=1e-05, elementwise_affine=True)\n",
       "      (mlp): GPT2MLP(\n",
       "        (c_fc): Conv1D()\n",
       "        (c_proj): Conv1D()\n",
       "        (act): NewGELUActivation()\n",
       "        (dropout): Dropout(p=0.1, inplace=False)\n",
       "      )\n",
       "    )\n",
       "    (6): GPT2Block(\n",
       "      (ln_1): LayerNorm((768,), eps=1e-05, elementwise_affine=True)\n",
       "      (attn): GPT2Attention(\n",
       "        (c_attn): Conv1D()\n",
       "        (c_proj): Conv1D()\n",
       "        (attn_dropout): Dropout(p=0.1, inplace=False)\n",
       "        (resid_dropout): Dropout(p=0.1, inplace=False)\n",
       "      )\n",
       "      (ln_2): LayerNorm((768,), eps=1e-05, elementwise_affine=True)\n",
       "      (mlp): GPT2MLP(\n",
       "        (c_fc): Conv1D()\n",
       "        (c_proj): Conv1D()\n",
       "        (act): NewGELUActivation()\n",
       "        (dropout): Dropout(p=0.1, inplace=False)\n",
       "      )\n",
       "    )\n",
       "    (7): GPT2Block(\n",
       "      (ln_1): LayerNorm((768,), eps=1e-05, elementwise_affine=True)\n",
       "      (attn): GPT2Attention(\n",
       "        (c_attn): Conv1D()\n",
       "        (c_proj): Conv1D()\n",
       "        (attn_dropout): Dropout(p=0.1, inplace=False)\n",
       "        (resid_dropout): Dropout(p=0.1, inplace=False)\n",
       "      )\n",
       "      (ln_2): LayerNorm((768,), eps=1e-05, elementwise_affine=True)\n",
       "      (mlp): GPT2MLP(\n",
       "        (c_fc): Conv1D()\n",
       "        (c_proj): Conv1D()\n",
       "        (act): NewGELUActivation()\n",
       "        (dropout): Dropout(p=0.1, inplace=False)\n",
       "      )\n",
       "    )\n",
       "    (8): GPT2Block(\n",
       "      (ln_1): LayerNorm((768,), eps=1e-05, elementwise_affine=True)\n",
       "      (attn): GPT2Attention(\n",
       "        (c_attn): Conv1D()\n",
       "        (c_proj): Conv1D()\n",
       "        (attn_dropout): Dropout(p=0.1, inplace=False)\n",
       "        (resid_dropout): Dropout(p=0.1, inplace=False)\n",
       "      )\n",
       "      (ln_2): LayerNorm((768,), eps=1e-05, elementwise_affine=True)\n",
       "      (mlp): GPT2MLP(\n",
       "        (c_fc): Conv1D()\n",
       "        (c_proj): Conv1D()\n",
       "        (act): NewGELUActivation()\n",
       "        (dropout): Dropout(p=0.1, inplace=False)\n",
       "      )\n",
       "    )\n",
       "    (9): GPT2Block(\n",
       "      (ln_1): LayerNorm((768,), eps=1e-05, elementwise_affine=True)\n",
       "      (attn): GPT2Attention(\n",
       "        (c_attn): Conv1D()\n",
       "        (c_proj): Conv1D()\n",
       "        (attn_dropout): Dropout(p=0.1, inplace=False)\n",
       "        (resid_dropout): Dropout(p=0.1, inplace=False)\n",
       "      )\n",
       "      (ln_2): LayerNorm((768,), eps=1e-05, elementwise_affine=True)\n",
       "      (mlp): GPT2MLP(\n",
       "        (c_fc): Conv1D()\n",
       "        (c_proj): Conv1D()\n",
       "        (act): NewGELUActivation()\n",
       "        (dropout): Dropout(p=0.1, inplace=False)\n",
       "      )\n",
       "    )\n",
       "    (10): GPT2Block(\n",
       "      (ln_1): LayerNorm((768,), eps=1e-05, elementwise_affine=True)\n",
       "      (attn): GPT2Attention(\n",
       "        (c_attn): Conv1D()\n",
       "        (c_proj): Conv1D()\n",
       "        (attn_dropout): Dropout(p=0.1, inplace=False)\n",
       "        (resid_dropout): Dropout(p=0.1, inplace=False)\n",
       "      )\n",
       "      (ln_2): LayerNorm((768,), eps=1e-05, elementwise_affine=True)\n",
       "      (mlp): GPT2MLP(\n",
       "        (c_fc): Conv1D()\n",
       "        (c_proj): Conv1D()\n",
       "        (act): NewGELUActivation()\n",
       "        (dropout): Dropout(p=0.1, inplace=False)\n",
       "      )\n",
       "    )\n",
       "    (11): GPT2Block(\n",
       "      (ln_1): LayerNorm((768,), eps=1e-05, elementwise_affine=True)\n",
       "      (attn): GPT2Attention(\n",
       "        (c_attn): Conv1D()\n",
       "        (c_proj): Conv1D()\n",
       "        (attn_dropout): Dropout(p=0.1, inplace=False)\n",
       "        (resid_dropout): Dropout(p=0.1, inplace=False)\n",
       "      )\n",
       "      (ln_2): LayerNorm((768,), eps=1e-05, elementwise_affine=True)\n",
       "      (mlp): GPT2MLP(\n",
       "        (c_fc): Conv1D()\n",
       "        (c_proj): Conv1D()\n",
       "        (act): NewGELUActivation()\n",
       "        (dropout): Dropout(p=0.1, inplace=False)\n",
       "      )\n",
       "    )\n",
       "  )\n",
       "  (ln_f): LayerNorm((768,), eps=1e-05, elementwise_affine=True)\n",
       ")"
      ]
     },
     "execution_count": 9,
     "metadata": {},
     "output_type": "execute_result"
    }
   ],
   "source": [
    "lm_model"
   ]
  },
  {
   "cell_type": "code",
   "execution_count": 10,
   "id": "296827ee",
   "metadata": {},
   "outputs": [],
   "source": [
    "dlm_model = AutoModel.from_pretrained('gpt2')"
   ]
  },
  {
   "cell_type": "code",
   "execution_count": 11,
   "id": "cabfda40",
   "metadata": {},
   "outputs": [
    {
     "data": {
      "text/plain": [
       "GPT2Model(\n",
       "  (wte): Embedding(50257, 768)\n",
       "  (wpe): Embedding(1024, 768)\n",
       "  (drop): Dropout(p=0.1, inplace=False)\n",
       "  (h): ModuleList(\n",
       "    (0): GPT2Block(\n",
       "      (ln_1): LayerNorm((768,), eps=1e-05, elementwise_affine=True)\n",
       "      (attn): GPT2Attention(\n",
       "        (c_attn): Conv1D()\n",
       "        (c_proj): Conv1D()\n",
       "        (attn_dropout): Dropout(p=0.1, inplace=False)\n",
       "        (resid_dropout): Dropout(p=0.1, inplace=False)\n",
       "      )\n",
       "      (ln_2): LayerNorm((768,), eps=1e-05, elementwise_affine=True)\n",
       "      (mlp): GPT2MLP(\n",
       "        (c_fc): Conv1D()\n",
       "        (c_proj): Conv1D()\n",
       "        (act): NewGELUActivation()\n",
       "        (dropout): Dropout(p=0.1, inplace=False)\n",
       "      )\n",
       "    )\n",
       "    (1): GPT2Block(\n",
       "      (ln_1): LayerNorm((768,), eps=1e-05, elementwise_affine=True)\n",
       "      (attn): GPT2Attention(\n",
       "        (c_attn): Conv1D()\n",
       "        (c_proj): Conv1D()\n",
       "        (attn_dropout): Dropout(p=0.1, inplace=False)\n",
       "        (resid_dropout): Dropout(p=0.1, inplace=False)\n",
       "      )\n",
       "      (ln_2): LayerNorm((768,), eps=1e-05, elementwise_affine=True)\n",
       "      (mlp): GPT2MLP(\n",
       "        (c_fc): Conv1D()\n",
       "        (c_proj): Conv1D()\n",
       "        (act): NewGELUActivation()\n",
       "        (dropout): Dropout(p=0.1, inplace=False)\n",
       "      )\n",
       "    )\n",
       "    (2): GPT2Block(\n",
       "      (ln_1): LayerNorm((768,), eps=1e-05, elementwise_affine=True)\n",
       "      (attn): GPT2Attention(\n",
       "        (c_attn): Conv1D()\n",
       "        (c_proj): Conv1D()\n",
       "        (attn_dropout): Dropout(p=0.1, inplace=False)\n",
       "        (resid_dropout): Dropout(p=0.1, inplace=False)\n",
       "      )\n",
       "      (ln_2): LayerNorm((768,), eps=1e-05, elementwise_affine=True)\n",
       "      (mlp): GPT2MLP(\n",
       "        (c_fc): Conv1D()\n",
       "        (c_proj): Conv1D()\n",
       "        (act): NewGELUActivation()\n",
       "        (dropout): Dropout(p=0.1, inplace=False)\n",
       "      )\n",
       "    )\n",
       "    (3): GPT2Block(\n",
       "      (ln_1): LayerNorm((768,), eps=1e-05, elementwise_affine=True)\n",
       "      (attn): GPT2Attention(\n",
       "        (c_attn): Conv1D()\n",
       "        (c_proj): Conv1D()\n",
       "        (attn_dropout): Dropout(p=0.1, inplace=False)\n",
       "        (resid_dropout): Dropout(p=0.1, inplace=False)\n",
       "      )\n",
       "      (ln_2): LayerNorm((768,), eps=1e-05, elementwise_affine=True)\n",
       "      (mlp): GPT2MLP(\n",
       "        (c_fc): Conv1D()\n",
       "        (c_proj): Conv1D()\n",
       "        (act): NewGELUActivation()\n",
       "        (dropout): Dropout(p=0.1, inplace=False)\n",
       "      )\n",
       "    )\n",
       "    (4): GPT2Block(\n",
       "      (ln_1): LayerNorm((768,), eps=1e-05, elementwise_affine=True)\n",
       "      (attn): GPT2Attention(\n",
       "        (c_attn): Conv1D()\n",
       "        (c_proj): Conv1D()\n",
       "        (attn_dropout): Dropout(p=0.1, inplace=False)\n",
       "        (resid_dropout): Dropout(p=0.1, inplace=False)\n",
       "      )\n",
       "      (ln_2): LayerNorm((768,), eps=1e-05, elementwise_affine=True)\n",
       "      (mlp): GPT2MLP(\n",
       "        (c_fc): Conv1D()\n",
       "        (c_proj): Conv1D()\n",
       "        (act): NewGELUActivation()\n",
       "        (dropout): Dropout(p=0.1, inplace=False)\n",
       "      )\n",
       "    )\n",
       "    (5): GPT2Block(\n",
       "      (ln_1): LayerNorm((768,), eps=1e-05, elementwise_affine=True)\n",
       "      (attn): GPT2Attention(\n",
       "        (c_attn): Conv1D()\n",
       "        (c_proj): Conv1D()\n",
       "        (attn_dropout): Dropout(p=0.1, inplace=False)\n",
       "        (resid_dropout): Dropout(p=0.1, inplace=False)\n",
       "      )\n",
       "      (ln_2): LayerNorm((768,), eps=1e-05, elementwise_affine=True)\n",
       "      (mlp): GPT2MLP(\n",
       "        (c_fc): Conv1D()\n",
       "        (c_proj): Conv1D()\n",
       "        (act): NewGELUActivation()\n",
       "        (dropout): Dropout(p=0.1, inplace=False)\n",
       "      )\n",
       "    )\n",
       "    (6): GPT2Block(\n",
       "      (ln_1): LayerNorm((768,), eps=1e-05, elementwise_affine=True)\n",
       "      (attn): GPT2Attention(\n",
       "        (c_attn): Conv1D()\n",
       "        (c_proj): Conv1D()\n",
       "        (attn_dropout): Dropout(p=0.1, inplace=False)\n",
       "        (resid_dropout): Dropout(p=0.1, inplace=False)\n",
       "      )\n",
       "      (ln_2): LayerNorm((768,), eps=1e-05, elementwise_affine=True)\n",
       "      (mlp): GPT2MLP(\n",
       "        (c_fc): Conv1D()\n",
       "        (c_proj): Conv1D()\n",
       "        (act): NewGELUActivation()\n",
       "        (dropout): Dropout(p=0.1, inplace=False)\n",
       "      )\n",
       "    )\n",
       "    (7): GPT2Block(\n",
       "      (ln_1): LayerNorm((768,), eps=1e-05, elementwise_affine=True)\n",
       "      (attn): GPT2Attention(\n",
       "        (c_attn): Conv1D()\n",
       "        (c_proj): Conv1D()\n",
       "        (attn_dropout): Dropout(p=0.1, inplace=False)\n",
       "        (resid_dropout): Dropout(p=0.1, inplace=False)\n",
       "      )\n",
       "      (ln_2): LayerNorm((768,), eps=1e-05, elementwise_affine=True)\n",
       "      (mlp): GPT2MLP(\n",
       "        (c_fc): Conv1D()\n",
       "        (c_proj): Conv1D()\n",
       "        (act): NewGELUActivation()\n",
       "        (dropout): Dropout(p=0.1, inplace=False)\n",
       "      )\n",
       "    )\n",
       "    (8): GPT2Block(\n",
       "      (ln_1): LayerNorm((768,), eps=1e-05, elementwise_affine=True)\n",
       "      (attn): GPT2Attention(\n",
       "        (c_attn): Conv1D()\n",
       "        (c_proj): Conv1D()\n",
       "        (attn_dropout): Dropout(p=0.1, inplace=False)\n",
       "        (resid_dropout): Dropout(p=0.1, inplace=False)\n",
       "      )\n",
       "      (ln_2): LayerNorm((768,), eps=1e-05, elementwise_affine=True)\n",
       "      (mlp): GPT2MLP(\n",
       "        (c_fc): Conv1D()\n",
       "        (c_proj): Conv1D()\n",
       "        (act): NewGELUActivation()\n",
       "        (dropout): Dropout(p=0.1, inplace=False)\n",
       "      )\n",
       "    )\n",
       "    (9): GPT2Block(\n",
       "      (ln_1): LayerNorm((768,), eps=1e-05, elementwise_affine=True)\n",
       "      (attn): GPT2Attention(\n",
       "        (c_attn): Conv1D()\n",
       "        (c_proj): Conv1D()\n",
       "        (attn_dropout): Dropout(p=0.1, inplace=False)\n",
       "        (resid_dropout): Dropout(p=0.1, inplace=False)\n",
       "      )\n",
       "      (ln_2): LayerNorm((768,), eps=1e-05, elementwise_affine=True)\n",
       "      (mlp): GPT2MLP(\n",
       "        (c_fc): Conv1D()\n",
       "        (c_proj): Conv1D()\n",
       "        (act): NewGELUActivation()\n",
       "        (dropout): Dropout(p=0.1, inplace=False)\n",
       "      )\n",
       "    )\n",
       "    (10): GPT2Block(\n",
       "      (ln_1): LayerNorm((768,), eps=1e-05, elementwise_affine=True)\n",
       "      (attn): GPT2Attention(\n",
       "        (c_attn): Conv1D()\n",
       "        (c_proj): Conv1D()\n",
       "        (attn_dropout): Dropout(p=0.1, inplace=False)\n",
       "        (resid_dropout): Dropout(p=0.1, inplace=False)\n",
       "      )\n",
       "      (ln_2): LayerNorm((768,), eps=1e-05, elementwise_affine=True)\n",
       "      (mlp): GPT2MLP(\n",
       "        (c_fc): Conv1D()\n",
       "        (c_proj): Conv1D()\n",
       "        (act): NewGELUActivation()\n",
       "        (dropout): Dropout(p=0.1, inplace=False)\n",
       "      )\n",
       "    )\n",
       "    (11): GPT2Block(\n",
       "      (ln_1): LayerNorm((768,), eps=1e-05, elementwise_affine=True)\n",
       "      (attn): GPT2Attention(\n",
       "        (c_attn): Conv1D()\n",
       "        (c_proj): Conv1D()\n",
       "        (attn_dropout): Dropout(p=0.1, inplace=False)\n",
       "        (resid_dropout): Dropout(p=0.1, inplace=False)\n",
       "      )\n",
       "      (ln_2): LayerNorm((768,), eps=1e-05, elementwise_affine=True)\n",
       "      (mlp): GPT2MLP(\n",
       "        (c_fc): Conv1D()\n",
       "        (c_proj): Conv1D()\n",
       "        (act): NewGELUActivation()\n",
       "        (dropout): Dropout(p=0.1, inplace=False)\n",
       "      )\n",
       "    )\n",
       "  )\n",
       "  (ln_f): LayerNorm((768,), eps=1e-05, elementwise_affine=True)\n",
       ")"
      ]
     },
     "execution_count": 11,
     "metadata": {},
     "output_type": "execute_result"
    }
   ],
   "source": [
    "dlm_model"
   ]
  },
  {
   "cell_type": "code",
   "execution_count": 12,
   "id": "c4631445",
   "metadata": {},
   "outputs": [],
   "source": [
    "layers = list(range(9))\n",
    "heads = [0,1,2,3,4,5,6,7,8,9,10,11]\n",
    "memory = torch.FloatTensor(np.zeros((12,768,2304))).to('cpu')\n",
    "\n",
    "dlm, mem = modify_model_heads(dlm, layers, heads, memory, 50)"
   ]
  },
  {
   "cell_type": "code",
   "execution_count": 13,
   "id": "24bfa593",
   "metadata": {},
   "outputs": [],
   "source": [
    "# Input text\n",
    "text = \"There are two children and their mother in the kitchen. The little boy has climbed up, on a three legged stool to get some cookies from the jar in the cupboard.\"\n",
    "#text = \"The little boy has climbed up, on a three legged stool to get some cookies from the jar in the cupboard.\""
   ]
  },
  {
   "cell_type": "markdown",
   "id": "5376f217",
   "metadata": {},
   "source": [
    "# GPT-2"
   ]
  },
  {
   "cell_type": "markdown",
   "id": "b905fa5c",
   "metadata": {},
   "source": [
    " Pass in `attribution` argument the list of primary attributions to be computed\n",
    " With ['ig', 'grad_x_input'] we are calculating Integrated Gradients and Input X Gradient saliency attributions\n",
    " output = lm.generate(text, generate=20, do_sample=True, attribution=['ig', 'grad_x_input'])"
   ]
  },
  {
   "cell_type": "code",
   "execution_count": 14,
   "id": "d7618aff",
   "metadata": {},
   "outputs": [
    {
     "data": {
      "text/html": [
       "<html lang=\"en\">\n",
       "<script src=\"https://requirejs.org/docs/release/2.3.6/minified/require.js\"></script>\n",
       "<script>\n",
       "    var ecco_url = 'https://storage.googleapis.com/ml-intro/ecco/'\n",
       "    //var ecco_url = 'http://localhost:8000/'\n",
       "\n",
       "    if (window.ecco === undefined) window.ecco = {}\n",
       "\n",
       "    // Setup the paths of the script we'll be using\n",
       "    requirejs.config({\n",
       "        urlArgs: \"bust=\" + (new Date()).getTime(),\n",
       "        nodeRequire: require,\n",
       "        paths: {\n",
       "            d3: \"https://d3js.org/d3.v6.min\", // This is only for use in setup.html and basic.html\n",
       "            \"d3-array\": \"https://d3js.org/d3-array.v2.min\",\n",
       "            jquery: \"https://code.jquery.com/jquery-3.5.1.min\",\n",
       "            ecco: ecco_url + 'js/0.0.6/ecco-bundle.min',\n",
       "            xregexp: 'https://cdnjs.cloudflare.com/ajax/libs/xregexp/3.2.0/xregexp-all.min'\n",
       "        }\n",
       "    });\n",
       "\n",
       "    // Add the css file\n",
       "    //requirejs(['d3'],\n",
       "    //    function (d3) {\n",
       "    //        d3.select('#css').attr('href', ecco_url + 'html/styles.css')\n",
       "    //    })\n",
       "\n",
       "    console.log('Ecco initialize!!')\n",
       "\n",
       "    // returns a 'basic' object. basic.init() selects the html div we'll be\n",
       "    // rendering the html into, adds styles.css to the document.\n",
       "    define('basic', ['d3'],\n",
       "        function (d3) {\n",
       "            return {\n",
       "                init: function (viz_id = null) {\n",
       "                    if (viz_id == null) {\n",
       "                        viz_id = \"viz_\" + Math.round(Math.random() * 10000000)\n",
       "                    }\n",
       "                    // Select the div rendered below, change its id\n",
       "                    const div = d3.select('#basic').attr('id', viz_id),\n",
       "                        div_parent = d3.select('#' + viz_id).node().parentNode\n",
       "\n",
       "                    // Link to CSS file\n",
       "                    d3.select(div_parent).insert('link')\n",
       "                        .attr('rel', 'stylesheet')\n",
       "                        .attr('type', 'text/css')\n",
       "                        .attr('href', ecco_url + 'html/0.0.2/styles.css')\n",
       "\n",
       "                    return viz_id\n",
       "                }\n",
       "            }\n",
       "        }, function (err) {\n",
       "            console.log(err);\n",
       "        }\n",
       "    )\n",
       "</script>\n",
       "\n",
       "<head>\n",
       "    <link id='css' rel=\"stylesheet\" type=\"text/css\">\n",
       "</head>\n",
       "<div id=\"basic\"></div>\n"
      ],
      "text/plain": [
       "<IPython.core.display.HTML object>"
      ]
     },
     "metadata": {},
     "output_type": "display_data"
    },
    {
     "data": {
      "application/javascript": [
       "\n",
       "         requirejs( ['basic', 'ecco'], function(basic, ecco){\n",
       "            basic.init('viz_594609') // Python needs to know the viz id. Used for each output token.\n",
       "            window.ecco['viz_594609'] = new ecco.renderOutputSequence({\n",
       "                    parentDiv: 'viz_594609',\n",
       "                    data: {\"tokens\": [{\"token\": \"There\", \"is_partial\": true, \"position\": 0, \"token_id\": 1858, \"type\": \"input\"}, {\"token\": \"are\", \"is_partial\": false, \"position\": 1, \"token_id\": 389, \"type\": \"input\"}, {\"token\": \"two\", \"is_partial\": false, \"position\": 2, \"token_id\": 734, \"type\": \"input\"}, {\"token\": \"children\", \"is_partial\": false, \"position\": 3, \"token_id\": 1751, \"type\": \"input\"}, {\"token\": \"and\", \"is_partial\": false, \"position\": 4, \"token_id\": 290, \"type\": \"input\"}, {\"token\": \"their\", \"is_partial\": false, \"position\": 5, \"token_id\": 511, \"type\": \"input\"}, {\"token\": \"mother\", \"is_partial\": false, \"position\": 6, \"token_id\": 2802, \"type\": \"input\"}, {\"token\": \"in\", \"is_partial\": false, \"position\": 7, \"token_id\": 287, \"type\": \"input\"}, {\"token\": \"the\", \"is_partial\": false, \"position\": 8, \"token_id\": 262, \"type\": \"input\"}, {\"token\": \"kitchen\", \"is_partial\": false, \"position\": 9, \"token_id\": 9592, \"type\": \"input\"}, {\"token\": \".\", \"is_partial\": true, \"position\": 10, \"token_id\": 13, \"type\": \"input\"}, {\"token\": \"The\", \"is_partial\": false, \"position\": 11, \"token_id\": 383, \"type\": \"input\"}, {\"token\": \"little\", \"is_partial\": false, \"position\": 12, \"token_id\": 1310, \"type\": \"input\"}, {\"token\": \"boy\", \"is_partial\": false, \"position\": 13, \"token_id\": 2933, \"type\": \"input\"}, {\"token\": \"has\", \"is_partial\": false, \"position\": 14, \"token_id\": 468, \"type\": \"input\"}, {\"token\": \"climbed\", \"is_partial\": false, \"position\": 15, \"token_id\": 19952, \"type\": \"input\"}, {\"token\": \"up\", \"is_partial\": false, \"position\": 16, \"token_id\": 510, \"type\": \"input\"}, {\"token\": \",\", \"is_partial\": true, \"position\": 17, \"token_id\": 11, \"type\": \"input\"}, {\"token\": \"on\", \"is_partial\": false, \"position\": 18, \"token_id\": 319, \"type\": \"input\"}, {\"token\": \"a\", \"is_partial\": false, \"position\": 19, \"token_id\": 257, \"type\": \"input\"}, {\"token\": \"three\", \"is_partial\": false, \"position\": 20, \"token_id\": 1115, \"type\": \"input\"}, {\"token\": \"le\", \"is_partial\": false, \"position\": 21, \"token_id\": 443, \"type\": \"input\"}, {\"token\": \"gged\", \"is_partial\": true, \"position\": 22, \"token_id\": 11178, \"type\": \"input\"}, {\"token\": \"stool\", \"is_partial\": false, \"position\": 23, \"token_id\": 38753, \"type\": \"input\"}, {\"token\": \"to\", \"is_partial\": false, \"position\": 24, \"token_id\": 284, \"type\": \"input\"}, {\"token\": \"get\", \"is_partial\": false, \"position\": 25, \"token_id\": 651, \"type\": \"input\"}, {\"token\": \"some\", \"is_partial\": false, \"position\": 26, \"token_id\": 617, \"type\": \"input\"}, {\"token\": \"cookies\", \"is_partial\": false, \"position\": 27, \"token_id\": 14746, \"type\": \"input\"}, {\"token\": \"from\", \"is_partial\": false, \"position\": 28, \"token_id\": 422, \"type\": \"input\"}, {\"token\": \"the\", \"is_partial\": false, \"position\": 29, \"token_id\": 262, \"type\": \"input\"}, {\"token\": \"jar\", \"is_partial\": false, \"position\": 30, \"token_id\": 17379, \"type\": \"input\"}, {\"token\": \"in\", \"is_partial\": false, \"position\": 31, \"token_id\": 287, \"type\": \"input\"}, {\"token\": \"the\", \"is_partial\": false, \"position\": 32, \"token_id\": 262, \"type\": \"input\"}, {\"token\": \"cup\", \"is_partial\": false, \"position\": 33, \"token_id\": 6508, \"type\": \"input\"}, {\"token\": \"board\", \"is_partial\": true, \"position\": 34, \"token_id\": 3526, \"type\": \"input\"}, {\"token\": \".\", \"is_partial\": true, \"position\": 35, \"token_id\": 13, \"type\": \"input\"}]},\n",
       "                    tokenization_config: {\"token_prefix\": \"\\u0120\", \"partial_token_prefix\": \"\"}\n",
       "            \n",
       "            })\n",
       "         }, function (err) {\n",
       "            console.log(err);\n",
       "        })\n",
       "        "
      ],
      "text/plain": [
       "<IPython.core.display.Javascript object>"
      ]
     },
     "metadata": {},
     "output_type": "display_data"
    },
    {
     "name": "stderr",
     "output_type": "stream",
     "text": [
      "Setting `pad_token_id` to `eos_token_id`:50256 for open-end generation.\n"
     ]
    },
    {
     "data": {
      "application/javascript": [
       "\n",
       "        // We don't really need these require scripts. But this is to avert\n",
       "        //this code from running before display_input_sequence which DOES require external files\n",
       "        requirejs(['basic', 'ecco'], function(basic, ecco){\n",
       "                console.log('addToken viz_id', 'viz_594609');\n",
       "                window.ecco['viz_594609'].addToken({\"token\": \"\\\"\", \"is_partial\": false, \"token_id\": 366, \"position\": 36, \"type\": \"output\"})\n",
       "                window.ecco['viz_594609'].redraw()\n",
       "        })\n",
       "        "
      ],
      "text/plain": [
       "<IPython.core.display.Javascript object>"
      ]
     },
     "metadata": {},
     "output_type": "display_data"
    },
    {
     "data": {
      "application/javascript": [
       "\n",
       "        // We don't really need these require scripts. But this is to avert\n",
       "        //this code from running before display_input_sequence which DOES require external files\n",
       "        requirejs(['basic', 'ecco'], function(basic, ecco){\n",
       "                console.log('addToken viz_id', 'viz_594609');\n",
       "                window.ecco['viz_594609'].addToken({\"token\": \"You\", \"is_partial\": true, \"token_id\": 1639, \"position\": 37, \"type\": \"output\"})\n",
       "                window.ecco['viz_594609'].redraw()\n",
       "        })\n",
       "        "
      ],
      "text/plain": [
       "<IPython.core.display.Javascript object>"
      ]
     },
     "metadata": {},
     "output_type": "display_data"
    },
    {
     "data": {
      "application/javascript": [
       "\n",
       "        // We don't really need these require scripts. But this is to avert\n",
       "        //this code from running before display_input_sequence which DOES require external files\n",
       "        requirejs(['basic', 'ecco'], function(basic, ecco){\n",
       "                console.log('addToken viz_id', 'viz_594609');\n",
       "                window.ecco['viz_594609'].addToken({\"token\": \"will\", \"is_partial\": false, \"token_id\": 481, \"position\": 38, \"type\": \"output\"})\n",
       "                window.ecco['viz_594609'].redraw()\n",
       "        })\n",
       "        "
      ],
      "text/plain": [
       "<IPython.core.display.Javascript object>"
      ]
     },
     "metadata": {},
     "output_type": "display_data"
    },
    {
     "data": {
      "application/javascript": [
       "\n",
       "        // We don't really need these require scripts. But this is to avert\n",
       "        //this code from running before display_input_sequence which DOES require external files\n",
       "        requirejs(['basic', 'ecco'], function(basic, ecco){\n",
       "                console.log('addToken viz_id', 'viz_594609');\n",
       "                window.ecco['viz_594609'].addToken({\"token\": \"love\", \"is_partial\": false, \"token_id\": 1842, \"position\": 39, \"type\": \"output\"})\n",
       "                window.ecco['viz_594609'].redraw()\n",
       "        })\n",
       "        "
      ],
      "text/plain": [
       "<IPython.core.display.Javascript object>"
      ]
     },
     "metadata": {},
     "output_type": "display_data"
    },
    {
     "data": {
      "application/javascript": [
       "\n",
       "        // We don't really need these require scripts. But this is to avert\n",
       "        //this code from running before display_input_sequence which DOES require external files\n",
       "        requirejs(['basic', 'ecco'], function(basic, ecco){\n",
       "                console.log('addToken viz_id', 'viz_594609');\n",
       "                window.ecco['viz_594609'].addToken({\"token\": \"me\", \"is_partial\": false, \"token_id\": 502, \"position\": 40, \"type\": \"output\"})\n",
       "                window.ecco['viz_594609'].redraw()\n",
       "        })\n",
       "        "
      ],
      "text/plain": [
       "<IPython.core.display.Javascript object>"
      ]
     },
     "metadata": {},
     "output_type": "display_data"
    }
   ],
   "source": [
    "# Generate 5 tokens to complete the input text.\n",
    "output = lm.generate(text, generate=5, temperature=1, do_sample=True, top_p=0.9, attribution=['ig', 'grad_x_input'])\n",
    "\n",
    "# Ecco will output each token as it is generated.\n",
    "\n",
    "# 'output' now contains the data captured from this run, including the input and output tokens\n",
    "# as well as neuron activations and input saliency values."
   ]
  },
  {
   "cell_type": "code",
   "execution_count": 15,
   "id": "e3edd307",
   "metadata": {},
   "outputs": [
    {
     "data": {
      "text/plain": [
       "ecco.output.OutputSeq"
      ]
     },
     "execution_count": 15,
     "metadata": {},
     "output_type": "execute_result"
    }
   ],
   "source": [
    "# An OutputSeq object is the result of running a language model on some input data. \n",
    "# It contains not only the output sequence of words generated by the model, but \n",
    "# also other data collecting during the generation process that is useful to analyze the model.\n",
    "\n",
    "type(output)"
   ]
  },
  {
   "cell_type": "code",
   "execution_count": 16,
   "id": "00678da4",
   "metadata": {},
   "outputs": [
    {
     "data": {
      "text/html": [
       "<html lang=\"en\">\n",
       "<script src=\"https://requirejs.org/docs/release/2.3.6/minified/require.js\"></script>\n",
       "<script>\n",
       "    var ecco_url = 'https://storage.googleapis.com/ml-intro/ecco/'\n",
       "    //var ecco_url = 'http://localhost:8000/'\n",
       "\n",
       "    if (window.ecco === undefined) window.ecco = {}\n",
       "\n",
       "    // Setup the paths of the script we'll be using\n",
       "    requirejs.config({\n",
       "        urlArgs: \"bust=\" + (new Date()).getTime(),\n",
       "        nodeRequire: require,\n",
       "        paths: {\n",
       "            d3: \"https://d3js.org/d3.v6.min\", // This is only for use in setup.html and basic.html\n",
       "            \"d3-array\": \"https://d3js.org/d3-array.v2.min\",\n",
       "            jquery: \"https://code.jquery.com/jquery-3.5.1.min\",\n",
       "            ecco: ecco_url + 'js/0.0.6/ecco-bundle.min',\n",
       "            xregexp: 'https://cdnjs.cloudflare.com/ajax/libs/xregexp/3.2.0/xregexp-all.min'\n",
       "        }\n",
       "    });\n",
       "\n",
       "    // Add the css file\n",
       "    //requirejs(['d3'],\n",
       "    //    function (d3) {\n",
       "    //        d3.select('#css').attr('href', ecco_url + 'html/styles.css')\n",
       "    //    })\n",
       "\n",
       "    console.log('Ecco initialize!!')\n",
       "\n",
       "    // returns a 'basic' object. basic.init() selects the html div we'll be\n",
       "    // rendering the html into, adds styles.css to the document.\n",
       "    define('basic', ['d3'],\n",
       "        function (d3) {\n",
       "            return {\n",
       "                init: function (viz_id = null) {\n",
       "                    if (viz_id == null) {\n",
       "                        viz_id = \"viz_\" + Math.round(Math.random() * 10000000)\n",
       "                    }\n",
       "                    // Select the div rendered below, change its id\n",
       "                    const div = d3.select('#basic').attr('id', viz_id),\n",
       "                        div_parent = d3.select('#' + viz_id).node().parentNode\n",
       "\n",
       "                    // Link to CSS file\n",
       "                    d3.select(div_parent).insert('link')\n",
       "                        .attr('rel', 'stylesheet')\n",
       "                        .attr('type', 'text/css')\n",
       "                        .attr('href', ecco_url + 'html/0.0.2/styles.css')\n",
       "\n",
       "                    return viz_id\n",
       "                }\n",
       "            }\n",
       "        }, function (err) {\n",
       "            console.log(err);\n",
       "        }\n",
       "    )\n",
       "</script>\n",
       "\n",
       "<head>\n",
       "    <link id='css' rel=\"stylesheet\" type=\"text/css\">\n",
       "</head>\n",
       "<div id=\"basic\"></div>\n"
      ],
      "text/plain": [
       "<IPython.core.display.HTML object>"
      ]
     },
     "metadata": {},
     "output_type": "display_data"
    },
    {
     "data": {
      "application/javascript": [
       "\n",
       "             requirejs(['basic', 'ecco'], function(basic, ecco){\n",
       "                const viz_id = basic.init()\n",
       "                console.log(viz_id)\n",
       "                // ecco.interactiveTokens(viz_id, {})\n",
       "                window.ecco[viz_id] = new ecco.MinimalHighlighter({\n",
       "                    parentDiv: viz_id,\n",
       "                    data: {\"tokens\": [{\"token\": \"There\", \"token_id\": 1858, \"is_partial\": true, \"type\": \"input\", \"value\": \"0.0696093087877797\", \"position\": 0}, {\"token\": \"are\", \"token_id\": 389, \"is_partial\": false, \"type\": \"input\", \"value\": \"0.09400730207465852\", \"position\": 1}, {\"token\": \"two\", \"token_id\": 734, \"is_partial\": false, \"type\": \"input\", \"value\": \"0.15646878589966887\", \"position\": 2}, {\"token\": \"children\", \"token_id\": 1751, \"is_partial\": false, \"type\": \"input\", \"value\": \"0.04507203197718796\", \"position\": 3}, {\"token\": \"and\", \"token_id\": 290, \"is_partial\": false, \"type\": \"input\", \"value\": \"0.02021712059052723\", \"position\": 4}, {\"token\": \"their\", \"token_id\": 511, \"is_partial\": false, \"type\": \"input\", \"value\": \"0.018693408828726228\", \"position\": 5}, {\"token\": \"mother\", \"token_id\": 2802, \"is_partial\": false, \"type\": \"input\", \"value\": \"0.020607447246398077\", \"position\": 6}, {\"token\": \"in\", \"token_id\": 287, \"is_partial\": false, \"type\": \"input\", \"value\": \"0.012433767529463043\", \"position\": 7}, {\"token\": \"the\", \"token_id\": 262, \"is_partial\": false, \"type\": \"input\", \"value\": \"0.011980589946169216\", \"position\": 8}, {\"token\": \"kitchen\", \"token_id\": 9592, \"is_partial\": false, \"type\": \"input\", \"value\": \"0.018940443977111907\", \"position\": 9}, {\"token\": \".\", \"token_id\": 13, \"is_partial\": true, \"type\": \"input\", \"value\": \"0.014376745089363409\", \"position\": 10}, {\"token\": \"The\", \"token_id\": 383, \"is_partial\": false, \"type\": \"input\", \"value\": \"0.013731174193921324\", \"position\": 11}, {\"token\": \"little\", \"token_id\": 1310, \"is_partial\": false, \"type\": \"input\", \"value\": \"0.016632738497597825\", \"position\": 12}, {\"token\": \"boy\", \"token_id\": 2933, \"is_partial\": false, \"type\": \"input\", \"value\": \"0.018529690808507984\", \"position\": 13}, {\"token\": \"has\", \"token_id\": 468, \"is_partial\": false, \"type\": \"input\", \"value\": \"0.013003229851073527\", \"position\": 14}, {\"token\": \"climbed\", \"token_id\": 19952, \"is_partial\": false, \"type\": \"input\", \"value\": \"0.023122079593615136\", \"position\": 15}, {\"token\": \"up\", \"token_id\": 510, \"is_partial\": false, \"type\": \"input\", \"value\": \"0.01446510634243783\", \"position\": 16}, {\"token\": \",\", \"token_id\": 11, \"is_partial\": true, \"type\": \"input\", \"value\": \"0.014147967002519078\", \"position\": 17}, {\"token\": \"on\", \"token_id\": 319, \"is_partial\": false, \"type\": \"input\", \"value\": \"0.012511839563357736\", \"position\": 18}, {\"token\": \"a\", \"token_id\": 257, \"is_partial\": false, \"type\": \"input\", \"value\": \"0.011987337605095984\", \"position\": 19}, {\"token\": \"three\", \"token_id\": 1115, \"is_partial\": false, \"type\": \"input\", \"value\": \"0.012679408810919874\", \"position\": 20}, {\"token\": \"le\", \"token_id\": 443, \"is_partial\": false, \"type\": \"input\", \"value\": \"0.017307132768294747\", \"position\": 21}, {\"token\": \"gged\", \"token_id\": 11178, \"is_partial\": true, \"type\": \"input\", \"value\": \"0.023624322029842413\", \"position\": 22}, {\"token\": \"stool\", \"token_id\": 38753, \"is_partial\": false, \"type\": \"input\", \"value\": \"0.021697955963758505\", \"position\": 23}, {\"token\": \"to\", \"token_id\": 284, \"is_partial\": false, \"type\": \"input\", \"value\": \"0.012223070531505165\", \"position\": 24}, {\"token\": \"get\", \"token_id\": 651, \"is_partial\": false, \"type\": \"input\", \"value\": \"0.01369107096429969\", \"position\": 25}, {\"token\": \"some\", \"token_id\": 617, \"is_partial\": false, \"type\": \"input\", \"value\": \"0.014001674598055815\", \"position\": 26}, {\"token\": \"cookies\", \"token_id\": 14746, \"is_partial\": false, \"type\": \"input\", \"value\": \"0.023727067006372896\", \"position\": 27}, {\"token\": \"from\", \"token_id\": 422, \"is_partial\": false, \"type\": \"input\", \"value\": \"0.01720608285977445\", \"position\": 28}, {\"token\": \"the\", \"token_id\": 262, \"is_partial\": false, \"type\": \"input\", \"value\": \"0.026875717821483763\", \"position\": 29}, {\"token\": \"jar\", \"token_id\": 17379, \"is_partial\": false, \"type\": \"input\", \"value\": \"0.027122342335341044\", \"position\": 30}, {\"token\": \"in\", \"token_id\": 287, \"is_partial\": false, \"type\": \"input\", \"value\": \"0.0239694829095323\", \"position\": 31}, {\"token\": \"the\", \"token_id\": 262, \"is_partial\": false, \"type\": \"input\", \"value\": \"0.03913819909813432\", \"position\": 32}, {\"token\": \"cup\", \"token_id\": 6508, \"is_partial\": false, \"type\": \"input\", \"value\": \"0.02783950271736333\", \"position\": 33}, {\"token\": \"board\", \"token_id\": 3526, \"is_partial\": true, \"type\": \"input\", \"value\": \"0.028322393527960964\", \"position\": 34}, {\"token\": \".\", \"token_id\": 13, \"is_partial\": true, \"type\": \"input\", \"value\": \"0.050036460652180204\", \"position\": 35}, {\"token\": \"\\\"\", \"token_id\": 366, \"is_partial\": false, \"type\": \"output\", \"value\": \"0\", \"position\": 36}, {\"token\": \"You\", \"token_id\": 1639, \"is_partial\": true, \"type\": \"output\", \"value\": \"0\", \"position\": 37}, {\"token\": \"will\", \"token_id\": 481, \"is_partial\": false, \"type\": \"output\", \"value\": \"0\", \"position\": 38}, {\"token\": \"love\", \"token_id\": 1842, \"is_partial\": false, \"type\": \"output\", \"value\": \"0\", \"position\": 39}, {\"token\": \"me\", \"token_id\": 502, \"is_partial\": false, \"type\": \"output\", \"value\": \"0\", \"position\": 40}], \"attributions\": [[0.0696093087877797, 0.09400730207465852, 0.15646878589966887, 0.04507203197718796, 0.02021712059052723, 0.018693408828726228, 0.020607447246398077, 0.012433767529463043, 0.011980589946169216, 0.018940443977111907, 0.014376745089363409, 0.013731174193921324, 0.016632738497597825, 0.018529690808507984, 0.013003229851073527, 0.023122079593615136, 0.01446510634243783, 0.014147967002519078, 0.012511839563357736, 0.011987337605095984, 0.012679408810919874, 0.017307132768294747, 0.023624322029842413, 0.021697955963758505, 0.012223070531505165, 0.01369107096429969, 0.014001674598055815, 0.023727067006372896, 0.01720608285977445, 0.026875717821483763, 0.027122342335341044, 0.0239694829095323, 0.03913819909813432, 0.02783950271736333, 0.028322393527960964, 0.050036460652180204], [0.043174433719818564, 0.019081008109881836, 0.015973797713195445, 0.028872503062101228, 0.011269647408577983, 0.012200872395252693, 0.02110526307945485, 0.015872966838302617, 0.017938632721933506, 0.03911581202316709, 0.024065109130534158, 0.012443820547152613, 0.02104856264101454, 0.021790843861982545, 0.01923538561331918, 0.047035125934300585, 0.010153448051511523, 0.008418634022659252, 0.008783555465101385, 0.008035090689936174, 0.011817921047813162, 0.02453877625592886, 0.04289962094248206, 0.050533485575789364, 0.008993690146618093, 0.011513545559126006, 0.010423033827333108, 0.08086584724085048, 0.012157272452274553, 0.008699320261147307, 0.04731608648516762, 0.016959461102363, 0.022167604444133526, 0.03100582094802315, 0.04249502533740484, 0.0763736191443955, 0.09562535619995169], [0.02989076536738433, 0.016637775328467178, 0.014383603100748498, 0.04301256481373293, 0.017400594669707694, 0.007966543024526882, 0.013729384144299129, 0.009898700153350606, 0.013188168664990191, 0.04884288098018881, 0.01728357646592657, 0.01013466128378896, 0.01502281197470086, 0.014756705916175469, 0.01711689424046598, 0.03805747080344447, 0.005894512137884898, 0.02644640853611783, 0.00925531340303368, 0.012173302670480215, 0.006765871555194463, 0.017912258803218267, 0.07940289599669362, 0.14566233003728069, 0.015322695667733213, 0.009686097141690256, 0.0077155367750472124, 0.04035617073629102, 0.011404939448856006, 0.009632198239390771, 0.024537944097121706, 0.006850570397664258, 0.006933139258486047, 0.01983023355459749, 0.041326917049050185, 0.013224902485107453, 0.04209479706944772, 0.12024786400771446], [0.04924218325942534, 0.020788220694436806, 0.01811608785255715, 0.02896351040531388, 0.01977719809094622, 0.010769143350325474, 0.01963702808752296, 0.01516478415802914, 0.012651069414312589, 0.04598059697861126, 0.018237488644687234, 0.019433346432385305, 0.03256847540633591, 0.03129114140498402, 0.01475712599783484, 0.04565115509118388, 0.008560880972574876, 0.011771997946213366, 0.008866805464022937, 0.007263367558007721, 0.007670235897334281, 0.017499485127856287, 0.03715739219804585, 0.042516433758472784, 0.008637040988736177, 0.010543789768909037, 0.012033744398275384, 0.06984245306130747, 0.008403517643752717, 0.007012605123636215, 0.029199992550798273, 0.010658175454715504, 0.01261879326198322, 0.02046549742539554, 0.02554787891913973, 0.07847055814473453, 0.05685150996005983, 0.05977047896639641, 0.045608810140739885], [0.03524542007112751, 0.012648824708806794, 0.014741883186374906, 0.019978593219296688, 0.01787617222962166, 0.008735404653205582, 0.018610865331417894, 0.011781455273652697, 0.014939151102731413, 0.028377300696579524, 0.0223785952606032, 0.010820475300897341, 0.012482309863501065, 0.021796605868014424, 0.013832059722394518, 0.04024834865151646, 0.005768731900547399, 0.009242864522564566, 0.005661355523423823, 0.006161964133800347, 0.00778130975292194, 0.018480309377952968, 0.03802522989087919, 0.04068029418766338, 0.0126543536738705, 0.014684297472407978, 0.012079274037823265, 0.04370793863363944, 0.006455703418118653, 0.009631294588588649, 0.025429799462394216, 0.013444762483088502, 0.01512302215365263, 0.0314902053359032, 0.0280965004984081, 0.09924253828655344, 0.06235853356555926, 0.048782246778265856, 0.033851098897275896, 0.1066729062849552]]},\n",
       "                    preset: 'viridis',\n",
       "                    tokenization_config: {\"token_prefix\": \"\\u0120\", \"partial_token_prefix\": \"\"}\n",
       "\n",
       "             })\n",
       "\n",
       "             window.ecco[viz_id].init();\n",
       "             window.ecco[viz_id].selectFirstToken();\n",
       "\n",
       "             }, function (err) {\n",
       "                console.log(err);\n",
       "            })"
      ],
      "text/plain": [
       "<IPython.core.display.Javascript object>"
      ]
     },
     "metadata": {},
     "output_type": "display_data"
    }
   ],
   "source": [
    "output.primary_attributions(attr_method='ig')"
   ]
  },
  {
   "cell_type": "code",
   "execution_count": 17,
   "id": "05491c67",
   "metadata": {},
   "outputs": [
    {
     "data": {
      "text/html": [
       "<html lang=\"en\">\n",
       "<script src=\"https://requirejs.org/docs/release/2.3.6/minified/require.js\"></script>\n",
       "<script>\n",
       "    var ecco_url = 'https://storage.googleapis.com/ml-intro/ecco/'\n",
       "    //var ecco_url = 'http://localhost:8000/'\n",
       "\n",
       "    if (window.ecco === undefined) window.ecco = {}\n",
       "\n",
       "    // Setup the paths of the script we'll be using\n",
       "    requirejs.config({\n",
       "        urlArgs: \"bust=\" + (new Date()).getTime(),\n",
       "        nodeRequire: require,\n",
       "        paths: {\n",
       "            d3: \"https://d3js.org/d3.v6.min\", // This is only for use in setup.html and basic.html\n",
       "            \"d3-array\": \"https://d3js.org/d3-array.v2.min\",\n",
       "            jquery: \"https://code.jquery.com/jquery-3.5.1.min\",\n",
       "            ecco: ecco_url + 'js/0.0.6/ecco-bundle.min',\n",
       "            xregexp: 'https://cdnjs.cloudflare.com/ajax/libs/xregexp/3.2.0/xregexp-all.min'\n",
       "        }\n",
       "    });\n",
       "\n",
       "    // Add the css file\n",
       "    //requirejs(['d3'],\n",
       "    //    function (d3) {\n",
       "    //        d3.select('#css').attr('href', ecco_url + 'html/styles.css')\n",
       "    //    })\n",
       "\n",
       "    console.log('Ecco initialize!!')\n",
       "\n",
       "    // returns a 'basic' object. basic.init() selects the html div we'll be\n",
       "    // rendering the html into, adds styles.css to the document.\n",
       "    define('basic', ['d3'],\n",
       "        function (d3) {\n",
       "            return {\n",
       "                init: function (viz_id = null) {\n",
       "                    if (viz_id == null) {\n",
       "                        viz_id = \"viz_\" + Math.round(Math.random() * 10000000)\n",
       "                    }\n",
       "                    // Select the div rendered below, change its id\n",
       "                    const div = d3.select('#basic').attr('id', viz_id),\n",
       "                        div_parent = d3.select('#' + viz_id).node().parentNode\n",
       "\n",
       "                    // Link to CSS file\n",
       "                    d3.select(div_parent).insert('link')\n",
       "                        .attr('rel', 'stylesheet')\n",
       "                        .attr('type', 'text/css')\n",
       "                        .attr('href', ecco_url + 'html/0.0.2/styles.css')\n",
       "\n",
       "                    return viz_id\n",
       "                }\n",
       "            }\n",
       "        }, function (err) {\n",
       "            console.log(err);\n",
       "        }\n",
       "    )\n",
       "</script>\n",
       "\n",
       "<head>\n",
       "    <link id='css' rel=\"stylesheet\" type=\"text/css\">\n",
       "</head>\n",
       "<div id=\"basic\"></div>\n"
      ],
      "text/plain": [
       "<IPython.core.display.HTML object>"
      ]
     },
     "metadata": {},
     "output_type": "display_data"
    },
    {
     "data": {
      "application/javascript": [
       "\n",
       "             requirejs(['basic', 'ecco'], function(basic, ecco){\n",
       "                const viz_id = basic.init()\n",
       "                console.log(viz_id)\n",
       "                window.ecco[viz_id] = ecco.interactiveTokens({\n",
       "                    parentDiv: viz_id,\n",
       "                    data: {\"tokens\": [{\"token\": \"There\", \"token_id\": 1858, \"is_partial\": true, \"type\": \"input\", \"value\": \"0.0696093087877797\", \"position\": 0}, {\"token\": \"are\", \"token_id\": 389, \"is_partial\": false, \"type\": \"input\", \"value\": \"0.09400730207465852\", \"position\": 1}, {\"token\": \"two\", \"token_id\": 734, \"is_partial\": false, \"type\": \"input\", \"value\": \"0.15646878589966887\", \"position\": 2}, {\"token\": \"children\", \"token_id\": 1751, \"is_partial\": false, \"type\": \"input\", \"value\": \"0.04507203197718796\", \"position\": 3}, {\"token\": \"and\", \"token_id\": 290, \"is_partial\": false, \"type\": \"input\", \"value\": \"0.02021712059052723\", \"position\": 4}, {\"token\": \"their\", \"token_id\": 511, \"is_partial\": false, \"type\": \"input\", \"value\": \"0.018693408828726228\", \"position\": 5}, {\"token\": \"mother\", \"token_id\": 2802, \"is_partial\": false, \"type\": \"input\", \"value\": \"0.020607447246398077\", \"position\": 6}, {\"token\": \"in\", \"token_id\": 287, \"is_partial\": false, \"type\": \"input\", \"value\": \"0.012433767529463043\", \"position\": 7}, {\"token\": \"the\", \"token_id\": 262, \"is_partial\": false, \"type\": \"input\", \"value\": \"0.011980589946169216\", \"position\": 8}, {\"token\": \"kitchen\", \"token_id\": 9592, \"is_partial\": false, \"type\": \"input\", \"value\": \"0.018940443977111907\", \"position\": 9}, {\"token\": \".\", \"token_id\": 13, \"is_partial\": true, \"type\": \"input\", \"value\": \"0.014376745089363409\", \"position\": 10}, {\"token\": \"The\", \"token_id\": 383, \"is_partial\": false, \"type\": \"input\", \"value\": \"0.013731174193921324\", \"position\": 11}, {\"token\": \"little\", \"token_id\": 1310, \"is_partial\": false, \"type\": \"input\", \"value\": \"0.016632738497597825\", \"position\": 12}, {\"token\": \"boy\", \"token_id\": 2933, \"is_partial\": false, \"type\": \"input\", \"value\": \"0.018529690808507984\", \"position\": 13}, {\"token\": \"has\", \"token_id\": 468, \"is_partial\": false, \"type\": \"input\", \"value\": \"0.013003229851073527\", \"position\": 14}, {\"token\": \"climbed\", \"token_id\": 19952, \"is_partial\": false, \"type\": \"input\", \"value\": \"0.023122079593615136\", \"position\": 15}, {\"token\": \"up\", \"token_id\": 510, \"is_partial\": false, \"type\": \"input\", \"value\": \"0.01446510634243783\", \"position\": 16}, {\"token\": \",\", \"token_id\": 11, \"is_partial\": true, \"type\": \"input\", \"value\": \"0.014147967002519078\", \"position\": 17}, {\"token\": \"on\", \"token_id\": 319, \"is_partial\": false, \"type\": \"input\", \"value\": \"0.012511839563357736\", \"position\": 18}, {\"token\": \"a\", \"token_id\": 257, \"is_partial\": false, \"type\": \"input\", \"value\": \"0.011987337605095984\", \"position\": 19}, {\"token\": \"three\", \"token_id\": 1115, \"is_partial\": false, \"type\": \"input\", \"value\": \"0.012679408810919874\", \"position\": 20}, {\"token\": \"le\", \"token_id\": 443, \"is_partial\": false, \"type\": \"input\", \"value\": \"0.017307132768294747\", \"position\": 21}, {\"token\": \"gged\", \"token_id\": 11178, \"is_partial\": true, \"type\": \"input\", \"value\": \"0.023624322029842413\", \"position\": 22}, {\"token\": \"stool\", \"token_id\": 38753, \"is_partial\": false, \"type\": \"input\", \"value\": \"0.021697955963758505\", \"position\": 23}, {\"token\": \"to\", \"token_id\": 284, \"is_partial\": false, \"type\": \"input\", \"value\": \"0.012223070531505165\", \"position\": 24}, {\"token\": \"get\", \"token_id\": 651, \"is_partial\": false, \"type\": \"input\", \"value\": \"0.01369107096429969\", \"position\": 25}, {\"token\": \"some\", \"token_id\": 617, \"is_partial\": false, \"type\": \"input\", \"value\": \"0.014001674598055815\", \"position\": 26}, {\"token\": \"cookies\", \"token_id\": 14746, \"is_partial\": false, \"type\": \"input\", \"value\": \"0.023727067006372896\", \"position\": 27}, {\"token\": \"from\", \"token_id\": 422, \"is_partial\": false, \"type\": \"input\", \"value\": \"0.01720608285977445\", \"position\": 28}, {\"token\": \"the\", \"token_id\": 262, \"is_partial\": false, \"type\": \"input\", \"value\": \"0.026875717821483763\", \"position\": 29}, {\"token\": \"jar\", \"token_id\": 17379, \"is_partial\": false, \"type\": \"input\", \"value\": \"0.027122342335341044\", \"position\": 30}, {\"token\": \"in\", \"token_id\": 287, \"is_partial\": false, \"type\": \"input\", \"value\": \"0.0239694829095323\", \"position\": 31}, {\"token\": \"the\", \"token_id\": 262, \"is_partial\": false, \"type\": \"input\", \"value\": \"0.03913819909813432\", \"position\": 32}, {\"token\": \"cup\", \"token_id\": 6508, \"is_partial\": false, \"type\": \"input\", \"value\": \"0.02783950271736333\", \"position\": 33}, {\"token\": \"board\", \"token_id\": 3526, \"is_partial\": true, \"type\": \"input\", \"value\": \"0.028322393527960964\", \"position\": 34}, {\"token\": \".\", \"token_id\": 13, \"is_partial\": true, \"type\": \"input\", \"value\": \"0.050036460652180204\", \"position\": 35}, {\"token\": \"\\\"\", \"token_id\": 366, \"is_partial\": false, \"type\": \"output\", \"value\": \"0\", \"position\": 36}, {\"token\": \"You\", \"token_id\": 1639, \"is_partial\": true, \"type\": \"output\", \"value\": \"0\", \"position\": 37}, {\"token\": \"will\", \"token_id\": 481, \"is_partial\": false, \"type\": \"output\", \"value\": \"0\", \"position\": 38}, {\"token\": \"love\", \"token_id\": 1842, \"is_partial\": false, \"type\": \"output\", \"value\": \"0\", \"position\": 39}, {\"token\": \"me\", \"token_id\": 502, \"is_partial\": false, \"type\": \"output\", \"value\": \"0\", \"position\": 40}], \"attributions\": [[0.0696093087877797, 0.09400730207465852, 0.15646878589966887, 0.04507203197718796, 0.02021712059052723, 0.018693408828726228, 0.020607447246398077, 0.012433767529463043, 0.011980589946169216, 0.018940443977111907, 0.014376745089363409, 0.013731174193921324, 0.016632738497597825, 0.018529690808507984, 0.013003229851073527, 0.023122079593615136, 0.01446510634243783, 0.014147967002519078, 0.012511839563357736, 0.011987337605095984, 0.012679408810919874, 0.017307132768294747, 0.023624322029842413, 0.021697955963758505, 0.012223070531505165, 0.01369107096429969, 0.014001674598055815, 0.023727067006372896, 0.01720608285977445, 0.026875717821483763, 0.027122342335341044, 0.0239694829095323, 0.03913819909813432, 0.02783950271736333, 0.028322393527960964, 0.050036460652180204], [0.043174433719818564, 0.019081008109881836, 0.015973797713195445, 0.028872503062101228, 0.011269647408577983, 0.012200872395252693, 0.02110526307945485, 0.015872966838302617, 0.017938632721933506, 0.03911581202316709, 0.024065109130534158, 0.012443820547152613, 0.02104856264101454, 0.021790843861982545, 0.01923538561331918, 0.047035125934300585, 0.010153448051511523, 0.008418634022659252, 0.008783555465101385, 0.008035090689936174, 0.011817921047813162, 0.02453877625592886, 0.04289962094248206, 0.050533485575789364, 0.008993690146618093, 0.011513545559126006, 0.010423033827333108, 0.08086584724085048, 0.012157272452274553, 0.008699320261147307, 0.04731608648516762, 0.016959461102363, 0.022167604444133526, 0.03100582094802315, 0.04249502533740484, 0.0763736191443955, 0.09562535619995169], [0.02989076536738433, 0.016637775328467178, 0.014383603100748498, 0.04301256481373293, 0.017400594669707694, 0.007966543024526882, 0.013729384144299129, 0.009898700153350606, 0.013188168664990191, 0.04884288098018881, 0.01728357646592657, 0.01013466128378896, 0.01502281197470086, 0.014756705916175469, 0.01711689424046598, 0.03805747080344447, 0.005894512137884898, 0.02644640853611783, 0.00925531340303368, 0.012173302670480215, 0.006765871555194463, 0.017912258803218267, 0.07940289599669362, 0.14566233003728069, 0.015322695667733213, 0.009686097141690256, 0.0077155367750472124, 0.04035617073629102, 0.011404939448856006, 0.009632198239390771, 0.024537944097121706, 0.006850570397664258, 0.006933139258486047, 0.01983023355459749, 0.041326917049050185, 0.013224902485107453, 0.04209479706944772, 0.12024786400771446], [0.04924218325942534, 0.020788220694436806, 0.01811608785255715, 0.02896351040531388, 0.01977719809094622, 0.010769143350325474, 0.01963702808752296, 0.01516478415802914, 0.012651069414312589, 0.04598059697861126, 0.018237488644687234, 0.019433346432385305, 0.03256847540633591, 0.03129114140498402, 0.01475712599783484, 0.04565115509118388, 0.008560880972574876, 0.011771997946213366, 0.008866805464022937, 0.007263367558007721, 0.007670235897334281, 0.017499485127856287, 0.03715739219804585, 0.042516433758472784, 0.008637040988736177, 0.010543789768909037, 0.012033744398275384, 0.06984245306130747, 0.008403517643752717, 0.007012605123636215, 0.029199992550798273, 0.010658175454715504, 0.01261879326198322, 0.02046549742539554, 0.02554787891913973, 0.07847055814473453, 0.05685150996005983, 0.05977047896639641, 0.045608810140739885], [0.03524542007112751, 0.012648824708806794, 0.014741883186374906, 0.019978593219296688, 0.01787617222962166, 0.008735404653205582, 0.018610865331417894, 0.011781455273652697, 0.014939151102731413, 0.028377300696579524, 0.0223785952606032, 0.010820475300897341, 0.012482309863501065, 0.021796605868014424, 0.013832059722394518, 0.04024834865151646, 0.005768731900547399, 0.009242864522564566, 0.005661355523423823, 0.006161964133800347, 0.00778130975292194, 0.018480309377952968, 0.03802522989087919, 0.04068029418766338, 0.0126543536738705, 0.014684297472407978, 0.012079274037823265, 0.04370793863363944, 0.006455703418118653, 0.009631294588588649, 0.025429799462394216, 0.013444762483088502, 0.01512302215365263, 0.0314902053359032, 0.0280965004984081, 0.09924253828655344, 0.06235853356555926, 0.048782246778265856, 0.033851098897275896, 0.1066729062849552]]},\n",
       "                    tokenization_config: {\"token_prefix\": \"\\u0120\", \"partial_token_prefix\": \"\"}\n",
       "             })\n",
       "\n",
       "             }, function (err) {\n",
       "                console.log(err);\n",
       "            })"
      ],
      "text/plain": [
       "<IPython.core.display.Javascript object>"
      ]
     },
     "metadata": {},
     "output_type": "display_data"
    }
   ],
   "source": [
    "output.primary_attributions(attr_method='ig', style=\"detailed\")"
   ]
  },
  {
   "cell_type": "code",
   "execution_count": 22,
   "id": "353952b2",
   "metadata": {},
   "outputs": [
    {
     "data": {
      "text/html": [
       "<html lang=\"en\">\n",
       "<script src=\"https://requirejs.org/docs/release/2.3.6/minified/require.js\"></script>\n",
       "<script>\n",
       "    var ecco_url = 'https://storage.googleapis.com/ml-intro/ecco/'\n",
       "    //var ecco_url = 'http://localhost:8000/'\n",
       "\n",
       "    if (window.ecco === undefined) window.ecco = {}\n",
       "\n",
       "    // Setup the paths of the script we'll be using\n",
       "    requirejs.config({\n",
       "        urlArgs: \"bust=\" + (new Date()).getTime(),\n",
       "        nodeRequire: require,\n",
       "        paths: {\n",
       "            d3: \"https://d3js.org/d3.v6.min\", // This is only for use in setup.html and basic.html\n",
       "            \"d3-array\": \"https://d3js.org/d3-array.v2.min\",\n",
       "            jquery: \"https://code.jquery.com/jquery-3.5.1.min\",\n",
       "            ecco: ecco_url + 'js/0.0.6/ecco-bundle.min',\n",
       "            xregexp: 'https://cdnjs.cloudflare.com/ajax/libs/xregexp/3.2.0/xregexp-all.min'\n",
       "        }\n",
       "    });\n",
       "\n",
       "    // Add the css file\n",
       "    //requirejs(['d3'],\n",
       "    //    function (d3) {\n",
       "    //        d3.select('#css').attr('href', ecco_url + 'html/styles.css')\n",
       "    //    })\n",
       "\n",
       "    console.log('Ecco initialize!!')\n",
       "\n",
       "    // returns a 'basic' object. basic.init() selects the html div we'll be\n",
       "    // rendering the html into, adds styles.css to the document.\n",
       "    define('basic', ['d3'],\n",
       "        function (d3) {\n",
       "            return {\n",
       "                init: function (viz_id = null) {\n",
       "                    if (viz_id == null) {\n",
       "                        viz_id = \"viz_\" + Math.round(Math.random() * 10000000)\n",
       "                    }\n",
       "                    // Select the div rendered below, change its id\n",
       "                    const div = d3.select('#basic').attr('id', viz_id),\n",
       "                        div_parent = d3.select('#' + viz_id).node().parentNode\n",
       "\n",
       "                    // Link to CSS file\n",
       "                    d3.select(div_parent).insert('link')\n",
       "                        .attr('rel', 'stylesheet')\n",
       "                        .attr('type', 'text/css')\n",
       "                        .attr('href', ecco_url + 'html/0.0.2/styles.css')\n",
       "\n",
       "                    return viz_id\n",
       "                }\n",
       "            }\n",
       "        }, function (err) {\n",
       "            console.log(err);\n",
       "        }\n",
       "    )\n",
       "</script>\n",
       "\n",
       "<head>\n",
       "    <link id='css' rel=\"stylesheet\" type=\"text/css\">\n",
       "</head>\n",
       "<div id=\"basic\"></div>\n"
      ],
      "text/plain": [
       "<IPython.core.display.HTML object>"
      ]
     },
     "metadata": {},
     "output_type": "display_data"
    },
    {
     "data": {
      "application/javascript": [
       "\n",
       "         requirejs(['basic', 'ecco'], function(basic, ecco){\n",
       "            const viz_id = basic.init()\n",
       "\n",
       "\n",
       "            let pred = new ecco.LayerPredictions({\n",
       "                parentDiv: viz_id,\n",
       "                data:[[{\"token\": \" He\", \"prob\": \"0.23178129\", \"ranking\": 1, \"layer\": 11}, {\"token\": \" The\", \"prob\": \"0.21431358\", \"ranking\": 2, \"layer\": 11}, {\"token\": \"\\n\", \"prob\": \"0.09969094\", \"ranking\": 3, \"layer\": 11}, {\"token\": \" His\", \"prob\": \"0.036150314\", \"ranking\": 4, \"layer\": 11}, {\"token\": \" \\\"\", \"prob\": \"0.0242073\", \"ranking\": 5, \"layer\": 11}, {\"token\": \" It\", \"prob\": \"0.023587799\", \"ranking\": 6, \"layer\": 11}, {\"token\": \" I\", \"prob\": \"0.020647548\", \"ranking\": 7, \"layer\": 11}, {\"token\": \" They\", \"prob\": \"0.019932443\", \"ranking\": 8, \"layer\": 11}, {\"token\": \" She\", \"prob\": \"0.01829383\", \"ranking\": 9, \"layer\": 11}, {\"token\": \" There\", \"prob\": \"0.018109415\", \"ranking\": 10, \"layer\": 11}]]\n",
       "            })\n",
       "            pred.init()\n",
       "         }, function (err) {\n",
       "            console.log(viz_id, err);\n",
       "        })"
      ],
      "text/plain": [
       "<IPython.core.display.Javascript object>"
      ]
     },
     "metadata": {},
     "output_type": "display_data"
    }
   ],
   "source": [
    "# 1\n",
    "# Visualize # output_0.layer_predictions(position=6, layer=5)\n",
    "\n",
    "# 2\n",
    "# output = lm.generate(text, generate=1, do_sample=False)\n",
    "# Visualize the candidate tokens at the last layer of the model (layer 5)\n",
    "# output.layer_predictions(position=8, layer=5) \n",
    "\n",
    "# 3\n",
    "# redictions for position 8\n",
    "# We can see more tokens using the topk parameter\n",
    "# output.layer_predictions(position=8, layer=5, topk=20)\n",
    "\n",
    "# 4\n",
    "# \n",
    "# Visualize the candidate tokens at every layer\n",
    "# output.layer_predictions(position=6)\n",
    "\n",
    "# # To Visuallize in all layers\n",
    "# output.layer_predictions(position=36)\n",
    "\n",
    "# # To Visuallize in last layer (11th layer)\n",
    "output.layer_predictions(position=36, layer=11)"
   ]
  },
  {
   "cell_type": "markdown",
   "id": "7582f82e",
   "metadata": {},
   "source": [
    "# GPT - D"
   ]
  },
  {
   "cell_type": "code",
   "execution_count": 18,
   "id": "478cfef2",
   "metadata": {},
   "outputs": [
    {
     "data": {
      "text/html": [
       "<html lang=\"en\">\n",
       "<script src=\"https://requirejs.org/docs/release/2.3.6/minified/require.js\"></script>\n",
       "<script>\n",
       "    var ecco_url = 'https://storage.googleapis.com/ml-intro/ecco/'\n",
       "    //var ecco_url = 'http://localhost:8000/'\n",
       "\n",
       "    if (window.ecco === undefined) window.ecco = {}\n",
       "\n",
       "    // Setup the paths of the script we'll be using\n",
       "    requirejs.config({\n",
       "        urlArgs: \"bust=\" + (new Date()).getTime(),\n",
       "        nodeRequire: require,\n",
       "        paths: {\n",
       "            d3: \"https://d3js.org/d3.v6.min\", // This is only for use in setup.html and basic.html\n",
       "            \"d3-array\": \"https://d3js.org/d3-array.v2.min\",\n",
       "            jquery: \"https://code.jquery.com/jquery-3.5.1.min\",\n",
       "            ecco: ecco_url + 'js/0.0.6/ecco-bundle.min',\n",
       "            xregexp: 'https://cdnjs.cloudflare.com/ajax/libs/xregexp/3.2.0/xregexp-all.min'\n",
       "        }\n",
       "    });\n",
       "\n",
       "    // Add the css file\n",
       "    //requirejs(['d3'],\n",
       "    //    function (d3) {\n",
       "    //        d3.select('#css').attr('href', ecco_url + 'html/styles.css')\n",
       "    //    })\n",
       "\n",
       "    console.log('Ecco initialize!!')\n",
       "\n",
       "    // returns a 'basic' object. basic.init() selects the html div we'll be\n",
       "    // rendering the html into, adds styles.css to the document.\n",
       "    define('basic', ['d3'],\n",
       "        function (d3) {\n",
       "            return {\n",
       "                init: function (viz_id = null) {\n",
       "                    if (viz_id == null) {\n",
       "                        viz_id = \"viz_\" + Math.round(Math.random() * 10000000)\n",
       "                    }\n",
       "                    // Select the div rendered below, change its id\n",
       "                    const div = d3.select('#basic').attr('id', viz_id),\n",
       "                        div_parent = d3.select('#' + viz_id).node().parentNode\n",
       "\n",
       "                    // Link to CSS file\n",
       "                    d3.select(div_parent).insert('link')\n",
       "                        .attr('rel', 'stylesheet')\n",
       "                        .attr('type', 'text/css')\n",
       "                        .attr('href', ecco_url + 'html/0.0.2/styles.css')\n",
       "\n",
       "                    return viz_id\n",
       "                }\n",
       "            }\n",
       "        }, function (err) {\n",
       "            console.log(err);\n",
       "        }\n",
       "    )\n",
       "</script>\n",
       "\n",
       "<head>\n",
       "    <link id='css' rel=\"stylesheet\" type=\"text/css\">\n",
       "</head>\n",
       "<div id=\"basic\"></div>\n"
      ],
      "text/plain": [
       "<IPython.core.display.HTML object>"
      ]
     },
     "metadata": {},
     "output_type": "display_data"
    },
    {
     "data": {
      "application/javascript": [
       "\n",
       "         requirejs( ['basic', 'ecco'], function(basic, ecco){\n",
       "            basic.init('viz_516912') // Python needs to know the viz id. Used for each output token.\n",
       "            window.ecco['viz_516912'] = new ecco.renderOutputSequence({\n",
       "                    parentDiv: 'viz_516912',\n",
       "                    data: {\"tokens\": [{\"token\": \"There\", \"is_partial\": true, \"position\": 0, \"token_id\": 1858, \"type\": \"input\"}, {\"token\": \"are\", \"is_partial\": false, \"position\": 1, \"token_id\": 389, \"type\": \"input\"}, {\"token\": \"two\", \"is_partial\": false, \"position\": 2, \"token_id\": 734, \"type\": \"input\"}, {\"token\": \"children\", \"is_partial\": false, \"position\": 3, \"token_id\": 1751, \"type\": \"input\"}, {\"token\": \"and\", \"is_partial\": false, \"position\": 4, \"token_id\": 290, \"type\": \"input\"}, {\"token\": \"their\", \"is_partial\": false, \"position\": 5, \"token_id\": 511, \"type\": \"input\"}, {\"token\": \"mother\", \"is_partial\": false, \"position\": 6, \"token_id\": 2802, \"type\": \"input\"}, {\"token\": \"in\", \"is_partial\": false, \"position\": 7, \"token_id\": 287, \"type\": \"input\"}, {\"token\": \"the\", \"is_partial\": false, \"position\": 8, \"token_id\": 262, \"type\": \"input\"}, {\"token\": \"kitchen\", \"is_partial\": false, \"position\": 9, \"token_id\": 9592, \"type\": \"input\"}, {\"token\": \".\", \"is_partial\": true, \"position\": 10, \"token_id\": 13, \"type\": \"input\"}, {\"token\": \"The\", \"is_partial\": false, \"position\": 11, \"token_id\": 383, \"type\": \"input\"}, {\"token\": \"little\", \"is_partial\": false, \"position\": 12, \"token_id\": 1310, \"type\": \"input\"}, {\"token\": \"boy\", \"is_partial\": false, \"position\": 13, \"token_id\": 2933, \"type\": \"input\"}, {\"token\": \"has\", \"is_partial\": false, \"position\": 14, \"token_id\": 468, \"type\": \"input\"}, {\"token\": \"climbed\", \"is_partial\": false, \"position\": 15, \"token_id\": 19952, \"type\": \"input\"}, {\"token\": \"up\", \"is_partial\": false, \"position\": 16, \"token_id\": 510, \"type\": \"input\"}, {\"token\": \",\", \"is_partial\": true, \"position\": 17, \"token_id\": 11, \"type\": \"input\"}, {\"token\": \"on\", \"is_partial\": false, \"position\": 18, \"token_id\": 319, \"type\": \"input\"}, {\"token\": \"a\", \"is_partial\": false, \"position\": 19, \"token_id\": 257, \"type\": \"input\"}, {\"token\": \"three\", \"is_partial\": false, \"position\": 20, \"token_id\": 1115, \"type\": \"input\"}, {\"token\": \"le\", \"is_partial\": false, \"position\": 21, \"token_id\": 443, \"type\": \"input\"}, {\"token\": \"gged\", \"is_partial\": true, \"position\": 22, \"token_id\": 11178, \"type\": \"input\"}, {\"token\": \"stool\", \"is_partial\": false, \"position\": 23, \"token_id\": 38753, \"type\": \"input\"}, {\"token\": \"to\", \"is_partial\": false, \"position\": 24, \"token_id\": 284, \"type\": \"input\"}, {\"token\": \"get\", \"is_partial\": false, \"position\": 25, \"token_id\": 651, \"type\": \"input\"}, {\"token\": \"some\", \"is_partial\": false, \"position\": 26, \"token_id\": 617, \"type\": \"input\"}, {\"token\": \"cookies\", \"is_partial\": false, \"position\": 27, \"token_id\": 14746, \"type\": \"input\"}, {\"token\": \"from\", \"is_partial\": false, \"position\": 28, \"token_id\": 422, \"type\": \"input\"}, {\"token\": \"the\", \"is_partial\": false, \"position\": 29, \"token_id\": 262, \"type\": \"input\"}, {\"token\": \"jar\", \"is_partial\": false, \"position\": 30, \"token_id\": 17379, \"type\": \"input\"}, {\"token\": \"in\", \"is_partial\": false, \"position\": 31, \"token_id\": 287, \"type\": \"input\"}, {\"token\": \"the\", \"is_partial\": false, \"position\": 32, \"token_id\": 262, \"type\": \"input\"}, {\"token\": \"cup\", \"is_partial\": false, \"position\": 33, \"token_id\": 6508, \"type\": \"input\"}, {\"token\": \"board\", \"is_partial\": true, \"position\": 34, \"token_id\": 3526, \"type\": \"input\"}, {\"token\": \".\", \"is_partial\": true, \"position\": 35, \"token_id\": 13, \"type\": \"input\"}]},\n",
       "                    tokenization_config: {\"token_prefix\": \"\\u0120\", \"partial_token_prefix\": \"\"}\n",
       "            \n",
       "            })\n",
       "         }, function (err) {\n",
       "            console.log(err);\n",
       "        })\n",
       "        "
      ],
      "text/plain": [
       "<IPython.core.display.Javascript object>"
      ]
     },
     "metadata": {},
     "output_type": "display_data"
    },
    {
     "name": "stderr",
     "output_type": "stream",
     "text": [
      "Setting `pad_token_id` to `eos_token_id`:50256 for open-end generation.\n"
     ]
    },
    {
     "data": {
      "application/javascript": [
       "\n",
       "        // We don't really need these require scripts. But this is to avert\n",
       "        //this code from running before display_input_sequence which DOES require external files\n",
       "        requirejs(['basic', 'ecco'], function(basic, ecco){\n",
       "                console.log('addToken viz_id', 'viz_516912');\n",
       "                window.ecco['viz_516912'].addToken({\"token\": \"The\", \"is_partial\": false, \"token_id\": 383, \"position\": 36, \"type\": \"output\"})\n",
       "                window.ecco['viz_516912'].redraw()\n",
       "        })\n",
       "        "
      ],
      "text/plain": [
       "<IPython.core.display.Javascript object>"
      ]
     },
     "metadata": {},
     "output_type": "display_data"
    },
    {
     "data": {
      "application/javascript": [
       "\n",
       "        // We don't really need these require scripts. But this is to avert\n",
       "        //this code from running before display_input_sequence which DOES require external files\n",
       "        requirejs(['basic', 'ecco'], function(basic, ecco){\n",
       "                console.log('addToken viz_id', 'viz_516912');\n",
       "                window.ecco['viz_516912'].addToken({\"token\": \"kids\", \"is_partial\": false, \"token_id\": 3988, \"position\": 37, \"type\": \"output\"})\n",
       "                window.ecco['viz_516912'].redraw()\n",
       "        })\n",
       "        "
      ],
      "text/plain": [
       "<IPython.core.display.Javascript object>"
      ]
     },
     "metadata": {},
     "output_type": "display_data"
    },
    {
     "data": {
      "application/javascript": [
       "\n",
       "        // We don't really need these require scripts. But this is to avert\n",
       "        //this code from running before display_input_sequence which DOES require external files\n",
       "        requirejs(['basic', 'ecco'], function(basic, ecco){\n",
       "                console.log('addToken viz_id', 'viz_516912');\n",
       "                window.ecco['viz_516912'].addToken({\"token\": \"on\", \"is_partial\": false, \"token_id\": 319, \"position\": 38, \"type\": \"output\"})\n",
       "                window.ecco['viz_516912'].redraw()\n",
       "        })\n",
       "        "
      ],
      "text/plain": [
       "<IPython.core.display.Javascript object>"
      ]
     },
     "metadata": {},
     "output_type": "display_data"
    },
    {
     "data": {
      "application/javascript": [
       "\n",
       "        // We don't really need these require scripts. But this is to avert\n",
       "        //this code from running before display_input_sequence which DOES require external files\n",
       "        requirejs(['basic', 'ecco'], function(basic, ecco){\n",
       "                console.log('addToken viz_id', 'viz_516912');\n",
       "                window.ecco['viz_516912'].addToken({\"token\": \",\", \"is_partial\": true, \"token_id\": 11, \"position\": 39, \"type\": \"output\"})\n",
       "                window.ecco['viz_516912'].redraw()\n",
       "        })\n",
       "        "
      ],
      "text/plain": [
       "<IPython.core.display.Javascript object>"
      ]
     },
     "metadata": {},
     "output_type": "display_data"
    },
    {
     "data": {
      "application/javascript": [
       "\n",
       "        // We don't really need these require scripts. But this is to avert\n",
       "        //this code from running before display_input_sequence which DOES require external files\n",
       "        requirejs(['basic', 'ecco'], function(basic, ecco){\n",
       "                console.log('addToken viz_id', 'viz_516912');\n",
       "                window.ecco['viz_516912'].addToken({\"token\": \"the\", \"is_partial\": false, \"token_id\": 262, \"position\": 40, \"type\": \"output\"})\n",
       "                window.ecco['viz_516912'].redraw()\n",
       "        })\n",
       "        "
      ],
      "text/plain": [
       "<IPython.core.display.Javascript object>"
      ]
     },
     "metadata": {},
     "output_type": "display_data"
    }
   ],
   "source": [
    "doutput = dlm.generate(text, generate=5, temperature=1, do_sample=True, top_p=0.9, attribution=['ig', 'grad_x_input'])\n"
   ]
  },
  {
   "cell_type": "code",
   "execution_count": 19,
   "id": "3d7c9329",
   "metadata": {},
   "outputs": [
    {
     "data": {
      "text/html": [
       "<html lang=\"en\">\n",
       "<script src=\"https://requirejs.org/docs/release/2.3.6/minified/require.js\"></script>\n",
       "<script>\n",
       "    var ecco_url = 'https://storage.googleapis.com/ml-intro/ecco/'\n",
       "    //var ecco_url = 'http://localhost:8000/'\n",
       "\n",
       "    if (window.ecco === undefined) window.ecco = {}\n",
       "\n",
       "    // Setup the paths of the script we'll be using\n",
       "    requirejs.config({\n",
       "        urlArgs: \"bust=\" + (new Date()).getTime(),\n",
       "        nodeRequire: require,\n",
       "        paths: {\n",
       "            d3: \"https://d3js.org/d3.v6.min\", // This is only for use in setup.html and basic.html\n",
       "            \"d3-array\": \"https://d3js.org/d3-array.v2.min\",\n",
       "            jquery: \"https://code.jquery.com/jquery-3.5.1.min\",\n",
       "            ecco: ecco_url + 'js/0.0.6/ecco-bundle.min',\n",
       "            xregexp: 'https://cdnjs.cloudflare.com/ajax/libs/xregexp/3.2.0/xregexp-all.min'\n",
       "        }\n",
       "    });\n",
       "\n",
       "    // Add the css file\n",
       "    //requirejs(['d3'],\n",
       "    //    function (d3) {\n",
       "    //        d3.select('#css').attr('href', ecco_url + 'html/styles.css')\n",
       "    //    })\n",
       "\n",
       "    console.log('Ecco initialize!!')\n",
       "\n",
       "    // returns a 'basic' object. basic.init() selects the html div we'll be\n",
       "    // rendering the html into, adds styles.css to the document.\n",
       "    define('basic', ['d3'],\n",
       "        function (d3) {\n",
       "            return {\n",
       "                init: function (viz_id = null) {\n",
       "                    if (viz_id == null) {\n",
       "                        viz_id = \"viz_\" + Math.round(Math.random() * 10000000)\n",
       "                    }\n",
       "                    // Select the div rendered below, change its id\n",
       "                    const div = d3.select('#basic').attr('id', viz_id),\n",
       "                        div_parent = d3.select('#' + viz_id).node().parentNode\n",
       "\n",
       "                    // Link to CSS file\n",
       "                    d3.select(div_parent).insert('link')\n",
       "                        .attr('rel', 'stylesheet')\n",
       "                        .attr('type', 'text/css')\n",
       "                        .attr('href', ecco_url + 'html/0.0.2/styles.css')\n",
       "\n",
       "                    return viz_id\n",
       "                }\n",
       "            }\n",
       "        }, function (err) {\n",
       "            console.log(err);\n",
       "        }\n",
       "    )\n",
       "</script>\n",
       "\n",
       "<head>\n",
       "    <link id='css' rel=\"stylesheet\" type=\"text/css\">\n",
       "</head>\n",
       "<div id=\"basic\"></div>\n"
      ],
      "text/plain": [
       "<IPython.core.display.HTML object>"
      ]
     },
     "metadata": {},
     "output_type": "display_data"
    },
    {
     "data": {
      "application/javascript": [
       "\n",
       "             requirejs(['basic', 'ecco'], function(basic, ecco){\n",
       "                const viz_id = basic.init()\n",
       "                console.log(viz_id)\n",
       "                // ecco.interactiveTokens(viz_id, {})\n",
       "                window.ecco[viz_id] = new ecco.MinimalHighlighter({\n",
       "                    parentDiv: viz_id,\n",
       "                    data: {\"tokens\": [{\"token\": \"There\", \"token_id\": 1858, \"is_partial\": true, \"type\": \"input\", \"value\": \"0.033330996\", \"position\": 0}, {\"token\": \"are\", \"token_id\": 389, \"is_partial\": false, \"type\": \"input\", \"value\": \"0.023499273\", \"position\": 1}, {\"token\": \"two\", \"token_id\": 734, \"is_partial\": false, \"type\": \"input\", \"value\": \"0.016112402\", \"position\": 2}, {\"token\": \"children\", \"token_id\": 1751, \"is_partial\": false, \"type\": \"input\", \"value\": \"0.024169466\", \"position\": 3}, {\"token\": \"and\", \"token_id\": 290, \"is_partial\": false, \"type\": \"input\", \"value\": \"0.022839108\", \"position\": 4}, {\"token\": \"their\", \"token_id\": 511, \"is_partial\": false, \"type\": \"input\", \"value\": \"0.015593709\", \"position\": 5}, {\"token\": \"mother\", \"token_id\": 2802, \"is_partial\": false, \"type\": \"input\", \"value\": \"0.019354584\", \"position\": 6}, {\"token\": \"in\", \"token_id\": 287, \"is_partial\": false, \"type\": \"input\", \"value\": \"0.019620834\", \"position\": 7}, {\"token\": \"the\", \"token_id\": 262, \"is_partial\": false, \"type\": \"input\", \"value\": \"0.01900475\", \"position\": 8}, {\"token\": \"kitchen\", \"token_id\": 9592, \"is_partial\": false, \"type\": \"input\", \"value\": \"0.047359217\", \"position\": 9}, {\"token\": \".\", \"token_id\": 13, \"is_partial\": true, \"type\": \"input\", \"value\": \"0.08585344\", \"position\": 10}, {\"token\": \"The\", \"token_id\": 383, \"is_partial\": false, \"type\": \"input\", \"value\": \"0.05402694\", \"position\": 11}, {\"token\": \"little\", \"token_id\": 1310, \"is_partial\": false, \"type\": \"input\", \"value\": \"0.01570856\", \"position\": 12}, {\"token\": \"boy\", \"token_id\": 2933, \"is_partial\": false, \"type\": \"input\", \"value\": \"0.019111013\", \"position\": 13}, {\"token\": \"has\", \"token_id\": 468, \"is_partial\": false, \"type\": \"input\", \"value\": \"0.014670915\", \"position\": 14}, {\"token\": \"climbed\", \"token_id\": 19952, \"is_partial\": false, \"type\": \"input\", \"value\": \"0.031015838\", \"position\": 15}, {\"token\": \"up\", \"token_id\": 510, \"is_partial\": false, \"type\": \"input\", \"value\": \"0.011915492\", \"position\": 16}, {\"token\": \",\", \"token_id\": 11, \"is_partial\": true, \"type\": \"input\", \"value\": \"0.01213462\", \"position\": 17}, {\"token\": \"on\", \"token_id\": 319, \"is_partial\": false, \"type\": \"input\", \"value\": \"0.009083404\", \"position\": 18}, {\"token\": \"a\", \"token_id\": 257, \"is_partial\": false, \"type\": \"input\", \"value\": \"0.012845516\", \"position\": 19}, {\"token\": \"three\", \"token_id\": 1115, \"is_partial\": false, \"type\": \"input\", \"value\": \"0.01803365\", \"position\": 20}, {\"token\": \"le\", \"token_id\": 443, \"is_partial\": false, \"type\": \"input\", \"value\": \"0.015291463\", \"position\": 21}, {\"token\": \"gged\", \"token_id\": 11178, \"is_partial\": true, \"type\": \"input\", \"value\": \"0.031658463\", \"position\": 22}, {\"token\": \"stool\", \"token_id\": 38753, \"is_partial\": false, \"type\": \"input\", \"value\": \"0.028009688\", \"position\": 23}, {\"token\": \"to\", \"token_id\": 284, \"is_partial\": false, \"type\": \"input\", \"value\": \"0.012649272\", \"position\": 24}, {\"token\": \"get\", \"token_id\": 651, \"is_partial\": false, \"type\": \"input\", \"value\": \"0.021064868\", \"position\": 25}, {\"token\": \"some\", \"token_id\": 617, \"is_partial\": false, \"type\": \"input\", \"value\": \"0.034617167\", \"position\": 26}, {\"token\": \"cookies\", \"token_id\": 14746, \"is_partial\": false, \"type\": \"input\", \"value\": \"0.028016973\", \"position\": 27}, {\"token\": \"from\", \"token_id\": 422, \"is_partial\": false, \"type\": \"input\", \"value\": \"0.010117351\", \"position\": 28}, {\"token\": \"the\", \"token_id\": 262, \"is_partial\": false, \"type\": \"input\", \"value\": \"0.016155085\", \"position\": 29}, {\"token\": \"jar\", \"token_id\": 17379, \"is_partial\": false, \"type\": \"input\", \"value\": \"0.03710681\", \"position\": 30}, {\"token\": \"in\", \"token_id\": 287, \"is_partial\": false, \"type\": \"input\", \"value\": \"0.022390146\", \"position\": 31}, {\"token\": \"the\", \"token_id\": 262, \"is_partial\": false, \"type\": \"input\", \"value\": \"0.013997669\", \"position\": 32}, {\"token\": \"cup\", \"token_id\": 6508, \"is_partial\": false, \"type\": \"input\", \"value\": \"0.031959955\", \"position\": 33}, {\"token\": \"board\", \"token_id\": 3526, \"is_partial\": true, \"type\": \"input\", \"value\": \"0.06807947\", \"position\": 34}, {\"token\": \".\", \"token_id\": 13, \"is_partial\": true, \"type\": \"input\", \"value\": \"0.10360182\", \"position\": 35}, {\"token\": \"The\", \"token_id\": 383, \"is_partial\": false, \"type\": \"output\", \"value\": \"0\", \"position\": 36}, {\"token\": \"kids\", \"token_id\": 3988, \"is_partial\": false, \"type\": \"output\", \"value\": \"0\", \"position\": 37}, {\"token\": \"on\", \"token_id\": 319, \"is_partial\": false, \"type\": \"output\", \"value\": \"0\", \"position\": 38}, {\"token\": \",\", \"token_id\": 11, \"is_partial\": true, \"type\": \"output\", \"value\": \"0\", \"position\": 39}, {\"token\": \"the\", \"token_id\": 262, \"is_partial\": false, \"type\": \"output\", \"value\": \"0\", \"position\": 40}], \"attributions\": [[0.033330995589494705, 0.023499272763729095, 0.016112402081489563, 0.02416946552693844, 0.022839108482003212, 0.01559370942413807, 0.01935458369553089, 0.019620833918452263, 0.01900474913418293, 0.04735921695828438, 0.0858534425497055, 0.05402693897485733, 0.01570856012403965, 0.019111013039946556, 0.014670914970338345, 0.03101583756506443, 0.01191549189388752, 0.012134619988501072, 0.009083404205739498, 0.012845516204833984, 0.018033649772405624, 0.015291462652385235, 0.031658463180065155, 0.0280096884816885, 0.01264927163720131, 0.021064868196845055, 0.034617166966199875, 0.02801697328686714, 0.010117351077497005, 0.01615508459508419, 0.03710680827498436, 0.022390145808458328, 0.013997669331729412, 0.031959954649209976, 0.06807947158813477, 0.10360182076692581], [0.02708587795495987, 0.019211241975426674, 0.022449297830462456, 0.040792420506477356, 0.018004607409238815, 0.015306666493415833, 0.024926254525780678, 0.01627352274954319, 0.019290994852781296, 0.04448189586400986, 0.050153765827417374, 0.0346163809299469, 0.02510787732899189, 0.04480108991265297, 0.010933749377727509, 0.023514816537499428, 0.008476859889924526, 0.014661615714430809, 0.008833862841129303, 0.011604893021285534, 0.011344702914357185, 0.01718886010348797, 0.03617183119058609, 0.039929650723934174, 0.012463822960853577, 0.015801340341567993, 0.016218677163124084, 0.0471271313726902, 0.006986020132899284, 0.024609845131635666, 0.055007725954055786, 0.007439501583576202, 0.02499074675142765, 0.048310332000255585, 0.04274976998567581, 0.04542367905378342, 0.06770861893892288], [0.029438383877277374, 0.01772317662835121, 0.023354006931185722, 0.03612348437309265, 0.036095939576625824, 0.016376759856939316, 0.028616053983569145, 0.026890894398093224, 0.017913948744535446, 0.03142072632908821, 0.018099702894687653, 0.01634414680302143, 0.011036491952836514, 0.019205261021852493, 0.01648472063243389, 0.04045271873474121, 0.008407289162278175, 0.026527920737862587, 0.023212911561131477, 0.014370966702699661, 0.009450455196201801, 0.011804861016571522, 0.03433537855744362, 0.03370393440127373, 0.028916308656334877, 0.0117231709882617, 0.014402872882783413, 0.021787285804748535, 0.017440805211663246, 0.015064987353980541, 0.027332879602909088, 0.016498440876603127, 0.017632145434617996, 0.030518464744091034, 0.04936232045292854, 0.030351761728525162, 0.07342152297496796, 0.09815693646669388], [0.020968761295080185, 0.012553571723401546, 0.010729261673986912, 0.019118040800094604, 0.015466347336769104, 0.011479688808321953, 0.012305835261940956, 0.011533624492585659, 0.013934488408267498, 0.027249356731772423, 0.018364589661359787, 0.017522549256682396, 0.010899507440626621, 0.017969448119401932, 0.014856509864330292, 0.0392216257750988, 0.021333914250135422, 0.04382225498557091, 0.022675886750221252, 0.0106790317222476, 0.010629693046212196, 0.009317455813288689, 0.025998879224061966, 0.03481767699122429, 0.011816838756203651, 0.010886255651712418, 0.018873000517487526, 0.022846397012472153, 0.012777997180819511, 0.011994175612926483, 0.030790764838457108, 0.01565728895366192, 0.01442652940750122, 0.028056591749191284, 0.04250473529100418, 0.08009500056505203, 0.05243886634707451, 0.1207478791475296, 0.07263972610235214], [0.025404391810297966, 0.0178766380995512, 0.014631535857915878, 0.02424842119216919, 0.024936223402619362, 0.012242443859577179, 0.015785858035087585, 0.014691400341689587, 0.018360987305641174, 0.026366712525486946, 0.03619459643959999, 0.02821524441242218, 0.014316757209599018, 0.018300598487257957, 0.012891799211502075, 0.02629462629556656, 0.007939540781080723, 0.016678346320986748, 0.011023860424757004, 0.014101369306445122, 0.017528317868709564, 0.011385035701096058, 0.0220783818513155, 0.020946431905031204, 0.01968768797814846, 0.01210077852010727, 0.022103561088442802, 0.022678913548588753, 0.016838040202856064, 0.022746916860342026, 0.03338750824332237, 0.022435765713453293, 0.024660933762788773, 0.02366229146718979, 0.03776891902089119, 0.0463399663567543, 0.13028471171855927, 0.05331316590309143, 0.020231200382113457, 0.039320144802331924]]},\n",
       "                    preset: 'viridis',\n",
       "                    tokenization_config: {\"token_prefix\": \"\\u0120\", \"partial_token_prefix\": \"\"}\n",
       "\n",
       "             })\n",
       "\n",
       "             window.ecco[viz_id].init();\n",
       "             window.ecco[viz_id].selectFirstToken();\n",
       "\n",
       "             }, function (err) {\n",
       "                console.log(err);\n",
       "            })"
      ],
      "text/plain": [
       "<IPython.core.display.Javascript object>"
      ]
     },
     "metadata": {},
     "output_type": "display_data"
    }
   ],
   "source": [
    "doutput.primary_attributions(attr_method='grad_x_input')"
   ]
  },
  {
   "cell_type": "code",
   "execution_count": 20,
   "id": "9a17567c",
   "metadata": {},
   "outputs": [
    {
     "data": {
      "text/html": [
       "<html lang=\"en\">\n",
       "<script src=\"https://requirejs.org/docs/release/2.3.6/minified/require.js\"></script>\n",
       "<script>\n",
       "    var ecco_url = 'https://storage.googleapis.com/ml-intro/ecco/'\n",
       "    //var ecco_url = 'http://localhost:8000/'\n",
       "\n",
       "    if (window.ecco === undefined) window.ecco = {}\n",
       "\n",
       "    // Setup the paths of the script we'll be using\n",
       "    requirejs.config({\n",
       "        urlArgs: \"bust=\" + (new Date()).getTime(),\n",
       "        nodeRequire: require,\n",
       "        paths: {\n",
       "            d3: \"https://d3js.org/d3.v6.min\", // This is only for use in setup.html and basic.html\n",
       "            \"d3-array\": \"https://d3js.org/d3-array.v2.min\",\n",
       "            jquery: \"https://code.jquery.com/jquery-3.5.1.min\",\n",
       "            ecco: ecco_url + 'js/0.0.6/ecco-bundle.min',\n",
       "            xregexp: 'https://cdnjs.cloudflare.com/ajax/libs/xregexp/3.2.0/xregexp-all.min'\n",
       "        }\n",
       "    });\n",
       "\n",
       "    // Add the css file\n",
       "    //requirejs(['d3'],\n",
       "    //    function (d3) {\n",
       "    //        d3.select('#css').attr('href', ecco_url + 'html/styles.css')\n",
       "    //    })\n",
       "\n",
       "    console.log('Ecco initialize!!')\n",
       "\n",
       "    // returns a 'basic' object. basic.init() selects the html div we'll be\n",
       "    // rendering the html into, adds styles.css to the document.\n",
       "    define('basic', ['d3'],\n",
       "        function (d3) {\n",
       "            return {\n",
       "                init: function (viz_id = null) {\n",
       "                    if (viz_id == null) {\n",
       "                        viz_id = \"viz_\" + Math.round(Math.random() * 10000000)\n",
       "                    }\n",
       "                    // Select the div rendered below, change its id\n",
       "                    const div = d3.select('#basic').attr('id', viz_id),\n",
       "                        div_parent = d3.select('#' + viz_id).node().parentNode\n",
       "\n",
       "                    // Link to CSS file\n",
       "                    d3.select(div_parent).insert('link')\n",
       "                        .attr('rel', 'stylesheet')\n",
       "                        .attr('type', 'text/css')\n",
       "                        .attr('href', ecco_url + 'html/0.0.2/styles.css')\n",
       "\n",
       "                    return viz_id\n",
       "                }\n",
       "            }\n",
       "        }, function (err) {\n",
       "            console.log(err);\n",
       "        }\n",
       "    )\n",
       "</script>\n",
       "\n",
       "<head>\n",
       "    <link id='css' rel=\"stylesheet\" type=\"text/css\">\n",
       "</head>\n",
       "<div id=\"basic\"></div>\n"
      ],
      "text/plain": [
       "<IPython.core.display.HTML object>"
      ]
     },
     "metadata": {},
     "output_type": "display_data"
    },
    {
     "data": {
      "application/javascript": [
       "\n",
       "             requirejs(['basic', 'ecco'], function(basic, ecco){\n",
       "                const viz_id = basic.init()\n",
       "                console.log(viz_id)\n",
       "                window.ecco[viz_id] = ecco.interactiveTokens({\n",
       "                    parentDiv: viz_id,\n",
       "                    data: {\"tokens\": [{\"token\": \"There\", \"token_id\": 1858, \"is_partial\": true, \"type\": \"input\", \"value\": \"0.033330996\", \"position\": 0}, {\"token\": \"are\", \"token_id\": 389, \"is_partial\": false, \"type\": \"input\", \"value\": \"0.023499273\", \"position\": 1}, {\"token\": \"two\", \"token_id\": 734, \"is_partial\": false, \"type\": \"input\", \"value\": \"0.016112402\", \"position\": 2}, {\"token\": \"children\", \"token_id\": 1751, \"is_partial\": false, \"type\": \"input\", \"value\": \"0.024169466\", \"position\": 3}, {\"token\": \"and\", \"token_id\": 290, \"is_partial\": false, \"type\": \"input\", \"value\": \"0.022839108\", \"position\": 4}, {\"token\": \"their\", \"token_id\": 511, \"is_partial\": false, \"type\": \"input\", \"value\": \"0.015593709\", \"position\": 5}, {\"token\": \"mother\", \"token_id\": 2802, \"is_partial\": false, \"type\": \"input\", \"value\": \"0.019354584\", \"position\": 6}, {\"token\": \"in\", \"token_id\": 287, \"is_partial\": false, \"type\": \"input\", \"value\": \"0.019620834\", \"position\": 7}, {\"token\": \"the\", \"token_id\": 262, \"is_partial\": false, \"type\": \"input\", \"value\": \"0.01900475\", \"position\": 8}, {\"token\": \"kitchen\", \"token_id\": 9592, \"is_partial\": false, \"type\": \"input\", \"value\": \"0.047359217\", \"position\": 9}, {\"token\": \".\", \"token_id\": 13, \"is_partial\": true, \"type\": \"input\", \"value\": \"0.08585344\", \"position\": 10}, {\"token\": \"The\", \"token_id\": 383, \"is_partial\": false, \"type\": \"input\", \"value\": \"0.05402694\", \"position\": 11}, {\"token\": \"little\", \"token_id\": 1310, \"is_partial\": false, \"type\": \"input\", \"value\": \"0.01570856\", \"position\": 12}, {\"token\": \"boy\", \"token_id\": 2933, \"is_partial\": false, \"type\": \"input\", \"value\": \"0.019111013\", \"position\": 13}, {\"token\": \"has\", \"token_id\": 468, \"is_partial\": false, \"type\": \"input\", \"value\": \"0.014670915\", \"position\": 14}, {\"token\": \"climbed\", \"token_id\": 19952, \"is_partial\": false, \"type\": \"input\", \"value\": \"0.031015838\", \"position\": 15}, {\"token\": \"up\", \"token_id\": 510, \"is_partial\": false, \"type\": \"input\", \"value\": \"0.011915492\", \"position\": 16}, {\"token\": \",\", \"token_id\": 11, \"is_partial\": true, \"type\": \"input\", \"value\": \"0.01213462\", \"position\": 17}, {\"token\": \"on\", \"token_id\": 319, \"is_partial\": false, \"type\": \"input\", \"value\": \"0.009083404\", \"position\": 18}, {\"token\": \"a\", \"token_id\": 257, \"is_partial\": false, \"type\": \"input\", \"value\": \"0.012845516\", \"position\": 19}, {\"token\": \"three\", \"token_id\": 1115, \"is_partial\": false, \"type\": \"input\", \"value\": \"0.01803365\", \"position\": 20}, {\"token\": \"le\", \"token_id\": 443, \"is_partial\": false, \"type\": \"input\", \"value\": \"0.015291463\", \"position\": 21}, {\"token\": \"gged\", \"token_id\": 11178, \"is_partial\": true, \"type\": \"input\", \"value\": \"0.031658463\", \"position\": 22}, {\"token\": \"stool\", \"token_id\": 38753, \"is_partial\": false, \"type\": \"input\", \"value\": \"0.028009688\", \"position\": 23}, {\"token\": \"to\", \"token_id\": 284, \"is_partial\": false, \"type\": \"input\", \"value\": \"0.012649272\", \"position\": 24}, {\"token\": \"get\", \"token_id\": 651, \"is_partial\": false, \"type\": \"input\", \"value\": \"0.021064868\", \"position\": 25}, {\"token\": \"some\", \"token_id\": 617, \"is_partial\": false, \"type\": \"input\", \"value\": \"0.034617167\", \"position\": 26}, {\"token\": \"cookies\", \"token_id\": 14746, \"is_partial\": false, \"type\": \"input\", \"value\": \"0.028016973\", \"position\": 27}, {\"token\": \"from\", \"token_id\": 422, \"is_partial\": false, \"type\": \"input\", \"value\": \"0.010117351\", \"position\": 28}, {\"token\": \"the\", \"token_id\": 262, \"is_partial\": false, \"type\": \"input\", \"value\": \"0.016155085\", \"position\": 29}, {\"token\": \"jar\", \"token_id\": 17379, \"is_partial\": false, \"type\": \"input\", \"value\": \"0.03710681\", \"position\": 30}, {\"token\": \"in\", \"token_id\": 287, \"is_partial\": false, \"type\": \"input\", \"value\": \"0.022390146\", \"position\": 31}, {\"token\": \"the\", \"token_id\": 262, \"is_partial\": false, \"type\": \"input\", \"value\": \"0.013997669\", \"position\": 32}, {\"token\": \"cup\", \"token_id\": 6508, \"is_partial\": false, \"type\": \"input\", \"value\": \"0.031959955\", \"position\": 33}, {\"token\": \"board\", \"token_id\": 3526, \"is_partial\": true, \"type\": \"input\", \"value\": \"0.06807947\", \"position\": 34}, {\"token\": \".\", \"token_id\": 13, \"is_partial\": true, \"type\": \"input\", \"value\": \"0.10360182\", \"position\": 35}, {\"token\": \"The\", \"token_id\": 383, \"is_partial\": false, \"type\": \"output\", \"value\": \"0\", \"position\": 36}, {\"token\": \"kids\", \"token_id\": 3988, \"is_partial\": false, \"type\": \"output\", \"value\": \"0\", \"position\": 37}, {\"token\": \"on\", \"token_id\": 319, \"is_partial\": false, \"type\": \"output\", \"value\": \"0\", \"position\": 38}, {\"token\": \",\", \"token_id\": 11, \"is_partial\": true, \"type\": \"output\", \"value\": \"0\", \"position\": 39}, {\"token\": \"the\", \"token_id\": 262, \"is_partial\": false, \"type\": \"output\", \"value\": \"0\", \"position\": 40}], \"attributions\": [[0.033330995589494705, 0.023499272763729095, 0.016112402081489563, 0.02416946552693844, 0.022839108482003212, 0.01559370942413807, 0.01935458369553089, 0.019620833918452263, 0.01900474913418293, 0.04735921695828438, 0.0858534425497055, 0.05402693897485733, 0.01570856012403965, 0.019111013039946556, 0.014670914970338345, 0.03101583756506443, 0.01191549189388752, 0.012134619988501072, 0.009083404205739498, 0.012845516204833984, 0.018033649772405624, 0.015291462652385235, 0.031658463180065155, 0.0280096884816885, 0.01264927163720131, 0.021064868196845055, 0.034617166966199875, 0.02801697328686714, 0.010117351077497005, 0.01615508459508419, 0.03710680827498436, 0.022390145808458328, 0.013997669331729412, 0.031959954649209976, 0.06807947158813477, 0.10360182076692581], [0.02708587795495987, 0.019211241975426674, 0.022449297830462456, 0.040792420506477356, 0.018004607409238815, 0.015306666493415833, 0.024926254525780678, 0.01627352274954319, 0.019290994852781296, 0.04448189586400986, 0.050153765827417374, 0.0346163809299469, 0.02510787732899189, 0.04480108991265297, 0.010933749377727509, 0.023514816537499428, 0.008476859889924526, 0.014661615714430809, 0.008833862841129303, 0.011604893021285534, 0.011344702914357185, 0.01718886010348797, 0.03617183119058609, 0.039929650723934174, 0.012463822960853577, 0.015801340341567993, 0.016218677163124084, 0.0471271313726902, 0.006986020132899284, 0.024609845131635666, 0.055007725954055786, 0.007439501583576202, 0.02499074675142765, 0.048310332000255585, 0.04274976998567581, 0.04542367905378342, 0.06770861893892288], [0.029438383877277374, 0.01772317662835121, 0.023354006931185722, 0.03612348437309265, 0.036095939576625824, 0.016376759856939316, 0.028616053983569145, 0.026890894398093224, 0.017913948744535446, 0.03142072632908821, 0.018099702894687653, 0.01634414680302143, 0.011036491952836514, 0.019205261021852493, 0.01648472063243389, 0.04045271873474121, 0.008407289162278175, 0.026527920737862587, 0.023212911561131477, 0.014370966702699661, 0.009450455196201801, 0.011804861016571522, 0.03433537855744362, 0.03370393440127373, 0.028916308656334877, 0.0117231709882617, 0.014402872882783413, 0.021787285804748535, 0.017440805211663246, 0.015064987353980541, 0.027332879602909088, 0.016498440876603127, 0.017632145434617996, 0.030518464744091034, 0.04936232045292854, 0.030351761728525162, 0.07342152297496796, 0.09815693646669388], [0.020968761295080185, 0.012553571723401546, 0.010729261673986912, 0.019118040800094604, 0.015466347336769104, 0.011479688808321953, 0.012305835261940956, 0.011533624492585659, 0.013934488408267498, 0.027249356731772423, 0.018364589661359787, 0.017522549256682396, 0.010899507440626621, 0.017969448119401932, 0.014856509864330292, 0.0392216257750988, 0.021333914250135422, 0.04382225498557091, 0.022675886750221252, 0.0106790317222476, 0.010629693046212196, 0.009317455813288689, 0.025998879224061966, 0.03481767699122429, 0.011816838756203651, 0.010886255651712418, 0.018873000517487526, 0.022846397012472153, 0.012777997180819511, 0.011994175612926483, 0.030790764838457108, 0.01565728895366192, 0.01442652940750122, 0.028056591749191284, 0.04250473529100418, 0.08009500056505203, 0.05243886634707451, 0.1207478791475296, 0.07263972610235214], [0.025404391810297966, 0.0178766380995512, 0.014631535857915878, 0.02424842119216919, 0.024936223402619362, 0.012242443859577179, 0.015785858035087585, 0.014691400341689587, 0.018360987305641174, 0.026366712525486946, 0.03619459643959999, 0.02821524441242218, 0.014316757209599018, 0.018300598487257957, 0.012891799211502075, 0.02629462629556656, 0.007939540781080723, 0.016678346320986748, 0.011023860424757004, 0.014101369306445122, 0.017528317868709564, 0.011385035701096058, 0.0220783818513155, 0.020946431905031204, 0.01968768797814846, 0.01210077852010727, 0.022103561088442802, 0.022678913548588753, 0.016838040202856064, 0.022746916860342026, 0.03338750824332237, 0.022435765713453293, 0.024660933762788773, 0.02366229146718979, 0.03776891902089119, 0.0463399663567543, 0.13028471171855927, 0.05331316590309143, 0.020231200382113457, 0.039320144802331924]]},\n",
       "                    tokenization_config: {\"token_prefix\": \"\\u0120\", \"partial_token_prefix\": \"\"}\n",
       "             })\n",
       "\n",
       "             }, function (err) {\n",
       "                console.log(err);\n",
       "            })"
      ],
      "text/plain": [
       "<IPython.core.display.Javascript object>"
      ]
     },
     "metadata": {},
     "output_type": "display_data"
    }
   ],
   "source": [
    "doutput.primary_attributions(attr_method='grad_x_input', style=\"detailed\")"
   ]
  },
  {
   "cell_type": "code",
   "execution_count": 21,
   "id": "bb65c3f0",
   "metadata": {},
   "outputs": [
    {
     "data": {
      "text/html": [
       "<html lang=\"en\">\n",
       "<script src=\"https://requirejs.org/docs/release/2.3.6/minified/require.js\"></script>\n",
       "<script>\n",
       "    var ecco_url = 'https://storage.googleapis.com/ml-intro/ecco/'\n",
       "    //var ecco_url = 'http://localhost:8000/'\n",
       "\n",
       "    if (window.ecco === undefined) window.ecco = {}\n",
       "\n",
       "    // Setup the paths of the script we'll be using\n",
       "    requirejs.config({\n",
       "        urlArgs: \"bust=\" + (new Date()).getTime(),\n",
       "        nodeRequire: require,\n",
       "        paths: {\n",
       "            d3: \"https://d3js.org/d3.v6.min\", // This is only for use in setup.html and basic.html\n",
       "            \"d3-array\": \"https://d3js.org/d3-array.v2.min\",\n",
       "            jquery: \"https://code.jquery.com/jquery-3.5.1.min\",\n",
       "            ecco: ecco_url + 'js/0.0.6/ecco-bundle.min',\n",
       "            xregexp: 'https://cdnjs.cloudflare.com/ajax/libs/xregexp/3.2.0/xregexp-all.min'\n",
       "        }\n",
       "    });\n",
       "\n",
       "    // Add the css file\n",
       "    //requirejs(['d3'],\n",
       "    //    function (d3) {\n",
       "    //        d3.select('#css').attr('href', ecco_url + 'html/styles.css')\n",
       "    //    })\n",
       "\n",
       "    console.log('Ecco initialize!!')\n",
       "\n",
       "    // returns a 'basic' object. basic.init() selects the html div we'll be\n",
       "    // rendering the html into, adds styles.css to the document.\n",
       "    define('basic', ['d3'],\n",
       "        function (d3) {\n",
       "            return {\n",
       "                init: function (viz_id = null) {\n",
       "                    if (viz_id == null) {\n",
       "                        viz_id = \"viz_\" + Math.round(Math.random() * 10000000)\n",
       "                    }\n",
       "                    // Select the div rendered below, change its id\n",
       "                    const div = d3.select('#basic').attr('id', viz_id),\n",
       "                        div_parent = d3.select('#' + viz_id).node().parentNode\n",
       "\n",
       "                    // Link to CSS file\n",
       "                    d3.select(div_parent).insert('link')\n",
       "                        .attr('rel', 'stylesheet')\n",
       "                        .attr('type', 'text/css')\n",
       "                        .attr('href', ecco_url + 'html/0.0.2/styles.css')\n",
       "\n",
       "                    return viz_id\n",
       "                }\n",
       "            }\n",
       "        }, function (err) {\n",
       "            console.log(err);\n",
       "        }\n",
       "    )\n",
       "</script>\n",
       "\n",
       "<head>\n",
       "    <link id='css' rel=\"stylesheet\" type=\"text/css\">\n",
       "</head>\n",
       "<div id=\"basic\"></div>\n"
      ],
      "text/plain": [
       "<IPython.core.display.HTML object>"
      ]
     },
     "metadata": {},
     "output_type": "display_data"
    },
    {
     "data": {
      "application/javascript": [
       "\n",
       "         requirejs(['basic', 'ecco'], function(basic, ecco){\n",
       "            const viz_id = basic.init()\n",
       "\n",
       "\n",
       "            let pred = new ecco.LayerPredictions({\n",
       "                parentDiv: viz_id,\n",
       "                data:[[{\"token\": \"\\n\", \"prob\": \"0.030396035\", \"ranking\": 1, \"layer\": 11}, {\"token\": \" The\", \"prob\": \"0.028304566\", \"ranking\": 2, \"layer\": 11}, {\"token\": \" the\", \"prob\": \"0.026155284\", \"ranking\": 3, \"layer\": 11}, {\"token\": \" a\", \"prob\": \"0.011277777\", \"ranking\": 4, \"layer\": 11}, {\"token\": \" I\", \"prob\": \"0.0066344677\", \"ranking\": 5, \"layer\": 11}, {\"token\": \"\\n\\n\", \"prob\": \"0.0054392414\", \"ranking\": 6, \"layer\": 11}, {\"token\": \"<|endoftext|>\", \"prob\": \"0.0044176546\", \"ranking\": 7, \"layer\": 11}, {\"token\": \" to\", \"prob\": \"0.0043935548\", \"ranking\": 8, \"layer\": 11}, {\"token\": \" They\", \"prob\": \"0.004176142\", \"ranking\": 9, \"layer\": 11}, {\"token\": \" (\", \"prob\": \"0.004113436\", \"ranking\": 10, \"layer\": 11}]]\n",
       "            })\n",
       "            pred.init()\n",
       "         }, function (err) {\n",
       "            console.log(viz_id, err);\n",
       "        })"
      ],
      "text/plain": [
       "<IPython.core.display.Javascript object>"
      ]
     },
     "metadata": {},
     "output_type": "display_data"
    }
   ],
   "source": [
    "# layer_predictions(): Which tokens did the model consider as the best outputs for a specific position in the sequence?\n",
    "\n",
    "# To Visuallize in all layers\n",
    "# doutput.layer_predictions(position=36)\n",
    "\n",
    "# To visualize in last layer (11th layer)\n",
    "doutput.layer_predictions(position=36, layer=11)"
   ]
  },
  {
   "cell_type": "markdown",
   "id": "9a166f00",
   "metadata": {},
   "source": [
    "We also assessed differences in text generation between GPT-2 and GPT-D, by estimating repetitiveness and lexical frequency, as well as through salience-based visualization."
   ]
  },
  {
   "cell_type": "code",
   "execution_count": 23,
   "id": "b703a13e",
   "metadata": {},
   "outputs": [
    {
     "name": "stdout",
     "output_type": "stream",
     "text": [
      "con mean saliency: 4.00\n",
      "dem mean saliency: 4.00\n",
      "con total saliency: 100.00\n",
      "dem total saliency: 99.99\n",
      "t-test p-value: 1.000\n",
      "con mean saliency: 2.78\n",
      "dem mean saliency: 2.78\n",
      "con total saliency: 100.02\n",
      "dem total saliency: 100.01\n",
      "t-test p-value: 0.999\n"
     ]
    }
   ],
   "source": [
    "import numpy as np\n",
    "from scipy.stats import ttest_ind\n",
    "con = [6.62, 6.21, 7.4, 3.41, 8.74,\n",
    "       1.69, 3.9, 1.34, 1.48, 1.19,\n",
    "       3.24, 8.16, 7.23, 2.79, 1.47,\n",
    "       1.95, 6.47, 1.44, 0.91, 4.65,\n",
    "       1.35, 1.59, 4.08, 5.27, 7.42]\n",
    "con_2 = [7.93, 3.66, 2.67, 5.46, 4.07,\n",
    "         1.65, 2.79, 1.71, 2.3, 6.04,\n",
    "         4.83, 2.82, 2.83, 5.09, 1.55,\n",
    "         5.72, 0.85, 0.9, 0.48, 0.57,\n",
    "         0.97, 1.97, 4.24, 4.18, 1.05,\n",
    "         0.95, 1.03, 3.81, 0.72, 0.9, 2.68, 1.32, 0.84, 2.39, 2.94, 6.11]\n",
    "dem = [5.24, 5.68, 2.86, 2.92, 3.73,\n",
    "       1.32, 7.43, 2.26, 4.59, 1.88,\n",
    "       1.93, 3.35, 4.06, 4.45, 1.81,\n",
    "       2.06, 3.2, 2.09, 2.72, 5.1,\n",
    "       2.81, 4.34, 4.77, 5.65, 13.74]\n",
    "dem_2 = [2.75, 2.82, 1.6, 2.22, 3.64, 1.51, 2.46, 3.45, 5.03, 4.48, 7.63,\n",
    "         2.68, 1.25, 2.07, 1.71, 2.63, 1.25, 3.79, 2.04, 2.7, 1.92, 1.73,\n",
    "         2.51, 2.75, 3.19, 1.15, 1.76, 2.18, 2.17, 1.72, 2.76, 1.63, 2.33,\n",
    "         3.22, 3.07, 8.21]\n",
    "print(\"con mean saliency: {:0.2f}\".format(np.mean(con)))\n",
    "print(\"dem mean saliency: {:0.2f}\".format(np.mean(dem)))\n",
    "print(\"con total saliency: {:0.2f}\".format(np.sum(con)))\n",
    "print(\"dem total saliency: {:0.2f}\".format(np.sum(dem)))\n",
    "print(\"t-test p-value: {:0.3f}\".format(ttest_ind(con, dem)[1]))\n",
    "print(\"con mean saliency: {:0.2f}\".format(np.mean(con_2)))\n",
    "print(\"dem mean saliency: {:0.2f}\".format(np.mean(dem_2)))\n",
    "print(\"con total saliency: {:0.2f}\".format(np.sum(con_2)))\n",
    "print(\"dem total saliency: {:0.2f}\".format(np.sum(dem_2)))\n",
    "print(\"t-test p-value: {:0.3f}\".format(ttest_ind(con_2, dem_2)[1]))"
   ]
  },
  {
   "cell_type": "code",
   "execution_count": 24,
   "id": "605f3abc",
   "metadata": {},
   "outputs": [
    {
     "data": {
      "image/png": "[encoded data removed]",
      "text/plain": [
       "<Figure size 432x288 with 1 Axes>"
      ]
     },
     "metadata": {
      "needs_background": "light"
     },
     "output_type": "display_data"
    },
    {
     "data": {
      "image/png": "[encoded data removed]",
      "text/plain": [
       "<Figure size 432x288 with 1 Axes>"
      ]
     },
     "metadata": {
      "needs_background": "light"
     },
     "output_type": "display_data"
    }
   ],
   "source": [
    "from matplotlib import pyplot as plt\n",
    "\n",
    "fig1, ax1 = plt.subplots()\n",
    "ax1.hist(con, label=\"unimpaired\")\n",
    "ax1.hist(dem, label=\"impaired\")\n",
    "ax1.legend(loc=\"upper right\")\n",
    "plt.show()\n",
    "\n",
    "fig2, ax2 = plt.subplots()\n",
    "ax2.hist(con_2, label=\"unimpaired\")\n",
    "ax2.hist(dem_2, label=\"impaired\")\n",
    "ax2.legend(loc=\"upper right\")\n",
    "plt.show()"
   ]
  },
  {
   "cell_type": "code",
   "execution_count": null,
   "id": "e0479c94",
   "metadata": {},
   "outputs": [],
   "source": []
  }
 ],
 "metadata": {
  "kernelspec": {
   "display_name": "Python 3 (ipykernel)",
   "language": "python",
   "name": "python3"
  },
  "language_info": {
   "codemirror_mode": {
    "name": "ipython",
    "version": 3
   },
   "file_extension": ".py",
   "mimetype": "text/x-python",
   "name": "python",
   "nbconvert_exporter": "python",
   "pygments_lexer": "ipython3",
   "version": "3.8.16"
  }
 },
 "nbformat": 4,
 "nbformat_minor": 5
}
